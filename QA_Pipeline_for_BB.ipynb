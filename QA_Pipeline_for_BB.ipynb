{
  "cells": [
    {
      "cell_type": "markdown",
      "metadata": {
        "id": "view-in-github",
        "colab_type": "text"
      },
      "source": [
        "<a href=\"https://colab.research.google.com/github/FriendlyUser/stonk_doc_search/blob/main/QA_Pipeline_for_BB.ipynb\" target=\"_parent\"><img src=\"https://colab.research.google.com/assets/colab-badge.svg\" alt=\"Open In Colab\"/></a>"
      ]
    },
    {
      "cell_type": "markdown",
      "source": [
        "# Simple QA System\n",
        "\n",
        "\n",
        "Question Answering can be used in a variety of use cases. A very common one:  Using it to navigate through complex knowledge bases or long documents (\"search setting\").\n",
        "\n",
        "A \"knowledge base\" could for example be your website, an internal wiki or a collection of financial reports. \n",
        "In this tutorial we will work on a slightly different domain: \"Game of Thrones\". \n",
        "\n",
        "We upload documents for a particular company and use that as data to train the haystack qa system.\n"
      ],
      "metadata": {
        "id": "-MLX8WxpLLbC"
      }
    },
    {
      "cell_type": "markdown",
      "source": [
        "### Prepare environment\n",
        "\n",
        "#### Colab: Enable the GPU runtime\n",
        "Make sure you enable the GPU runtime to experience decent speed in this tutorial.\n",
        "**Runtime -> Change Runtime type -> Hardware accelerator -> GPU**\n",
        "\n",
        "<img src=\"https://raw.githubusercontent.com/deepset-ai/haystack/master/docs/_src/img/colab_gpu_runtime.jpg\">"
      ],
      "metadata": {
        "collapsed": false,
        "id": "9UA2taRGLLbF"
      }
    },
    {
      "cell_type": "code",
      "execution_count": null,
      "source": [
        "# Make sure you have a GPU running\n",
        "!nvidia-smi"
      ],
      "outputs": [
        {
          "output_type": "stream",
          "name": "stdout",
          "text": [
            "Tue Dec 21 06:43:54 2021       \n",
            "+-----------------------------------------------------------------------------+\n",
            "| NVIDIA-SMI 495.44       Driver Version: 460.32.03    CUDA Version: 11.2     |\n",
            "|-------------------------------+----------------------+----------------------+\n",
            "| GPU  Name        Persistence-M| Bus-Id        Disp.A | Volatile Uncorr. ECC |\n",
            "| Fan  Temp  Perf  Pwr:Usage/Cap|         Memory-Usage | GPU-Util  Compute M. |\n",
            "|                               |                      |               MIG M. |\n",
            "|===============================+======================+======================|\n",
            "|   0  Tesla K80           Off  | 00000000:00:04.0 Off |                    0 |\n",
            "| N/A   51C    P0    61W / 149W |   1653MiB / 11441MiB |      0%      Default |\n",
            "|                               |                      |                  N/A |\n",
            "+-------------------------------+----------------------+----------------------+\n",
            "                                                                               \n",
            "+-----------------------------------------------------------------------------+\n",
            "| Processes:                                                                  |\n",
            "|  GPU   GI   CI        PID   Type   Process name                  GPU Memory |\n",
            "|        ID   ID                                                   Usage      |\n",
            "|=============================================================================|\n",
            "|  No running processes found                                                 |\n",
            "+-----------------------------------------------------------------------------+\n"
          ]
        }
      ],
      "metadata": {
        "pycharm": {
          "name": "#%%\n"
        },
        "id": "M645snraLLbG",
        "colab": {
          "base_uri": "https://localhost:8080/"
        },
        "outputId": "ac64abcf-7bd0-490d-8421-af23080c54d0"
      }
    },
    {
      "cell_type": "code",
      "execution_count": null,
      "source": [
        "# Install the latest release of Haystack in your own environment \n",
        "#! pip install farm-haystack\n",
        "\n",
        "# Install the latest master of Haystack\n",
        "!pip install grpcio-tools==1.34.1\n",
        "!pip install git+https://github.com/deepset-ai/haystack.git\n",
        "\n",
        "# If you run this notebook on Google Colab, you might need to\n",
        "# restart the runtime after installing haystack.\n",
        "\n",
        "! wget --no-check-certificate https://dl.xpdfreader.com/xpdf-tools-linux-4.03.tar.gz -q\n",
        "! tar -xvf xpdf-tools-linux-4.03.tar.gz && sudo cp xpdf-tools-linux-4.03/bin64/pdftotext /usr/local/bin"
      ],
      "outputs": [
        {
          "output_type": "stream",
          "name": "stdout",
          "text": [
            "Requirement already satisfied: grpcio-tools==1.34.1 in /usr/local/lib/python3.7/dist-packages (1.34.1)\n",
            "Requirement already satisfied: grpcio>=1.34.1 in /usr/local/lib/python3.7/dist-packages (from grpcio-tools==1.34.1) (1.37.1)\n",
            "Requirement already satisfied: protobuf<4.0dev,>=3.5.0.post1 in /usr/local/lib/python3.7/dist-packages (from grpcio-tools==1.34.1) (3.17.3)\n",
            "Requirement already satisfied: setuptools in /usr/local/lib/python3.7/dist-packages (from grpcio-tools==1.34.1) (57.4.0)\n",
            "Requirement already satisfied: six>=1.5.2 in /usr/local/lib/python3.7/dist-packages (from grpcio>=1.34.1->grpcio-tools==1.34.1) (1.15.0)\n",
            "Collecting git+https://github.com/deepset-ai/haystack.git\n",
            "  Cloning https://github.com/deepset-ai/haystack.git to /tmp/pip-req-build-aidbs1ag\n",
            "  Running command git clone -q https://github.com/deepset-ai/haystack.git /tmp/pip-req-build-aidbs1ag\n",
            "Requirement already satisfied: setuptools in /usr/local/lib/python3.7/dist-packages (from farm-haystack==1.0.0) (57.4.0)\n",
            "Requirement already satisfied: wheel in /usr/local/lib/python3.7/dist-packages (from farm-haystack==1.0.0) (0.37.0)\n",
            "Requirement already satisfied: torch<1.11,>1.5 in /usr/local/lib/python3.7/dist-packages (from farm-haystack==1.0.0) (1.10.0+cu111)\n",
            "Requirement already satisfied: tqdm in /usr/local/lib/python3.7/dist-packages (from farm-haystack==1.0.0) (4.62.3)\n",
            "Requirement already satisfied: requests in /usr/local/lib/python3.7/dist-packages (from farm-haystack==1.0.0) (2.23.0)\n",
            "Requirement already satisfied: scipy>=1.3.2 in /usr/local/lib/python3.7/dist-packages (from farm-haystack==1.0.0) (1.4.1)\n",
            "Requirement already satisfied: sklearn in /usr/local/lib/python3.7/dist-packages (from farm-haystack==1.0.0) (0.0)\n",
            "Requirement already satisfied: seqeval in /usr/local/lib/python3.7/dist-packages (from farm-haystack==1.0.0) (1.2.2)\n",
            "Requirement already satisfied: mlflow<=1.13.1 in /usr/local/lib/python3.7/dist-packages (from farm-haystack==1.0.0) (1.13.1)\n",
            "Requirement already satisfied: transformers==4.13.0 in /usr/local/lib/python3.7/dist-packages (from farm-haystack==1.0.0) (4.13.0)\n",
            "Requirement already satisfied: dill in /usr/local/lib/python3.7/dist-packages (from farm-haystack==1.0.0) (0.3.4)\n",
            "Requirement already satisfied: psutil in /usr/local/lib/python3.7/dist-packages (from farm-haystack==1.0.0) (5.4.8)\n",
            "Requirement already satisfied: fastapi in /usr/local/lib/python3.7/dist-packages (from farm-haystack==1.0.0) (0.70.1)\n",
            "Requirement already satisfied: uvicorn in /usr/local/lib/python3.7/dist-packages (from farm-haystack==1.0.0) (0.16.0)\n",
            "Requirement already satisfied: gunicorn in /usr/local/lib/python3.7/dist-packages (from farm-haystack==1.0.0) (20.1.0)\n",
            "Requirement already satisfied: pandas in /usr/local/lib/python3.7/dist-packages (from farm-haystack==1.0.0) (1.1.5)\n",
            "Requirement already satisfied: elasticsearch<=7.10,>=7.7 in /usr/local/lib/python3.7/dist-packages (from farm-haystack==1.0.0) (7.10.0)\n",
            "Requirement already satisfied: elastic-apm in /usr/local/lib/python3.7/dist-packages (from farm-haystack==1.0.0) (6.7.2)\n",
            "Requirement already satisfied: tox in /usr/local/lib/python3.7/dist-packages (from farm-haystack==1.0.0) (3.24.4)\n",
            "Requirement already satisfied: coverage in /usr/local/lib/python3.7/dist-packages (from farm-haystack==1.0.0) (3.7.1)\n",
            "Requirement already satisfied: langdetect in /usr/local/lib/python3.7/dist-packages (from farm-haystack==1.0.0) (1.0.9)\n",
            "Requirement already satisfied: pytesseract==0.3.7 in /usr/local/lib/python3.7/dist-packages (from farm-haystack==1.0.0) (0.3.7)\n",
            "Requirement already satisfied: pillow==8.3.2 in /usr/local/lib/python3.7/dist-packages (from farm-haystack==1.0.0) (8.3.2)\n",
            "Requirement already satisfied: pdf2image==1.14.0 in /usr/local/lib/python3.7/dist-packages (from farm-haystack==1.0.0) (1.14.0)\n",
            "Requirement already satisfied: sentence-transformers>=0.4.0 in /usr/local/lib/python3.7/dist-packages (from farm-haystack==1.0.0) (2.1.0)\n",
            "Requirement already satisfied: python-multipart in /usr/local/lib/python3.7/dist-packages (from farm-haystack==1.0.0) (0.0.5)\n",
            "Requirement already satisfied: python-docx in /usr/local/lib/python3.7/dist-packages (from farm-haystack==1.0.0) (0.8.11)\n",
            "Requirement already satisfied: sqlalchemy>=1.4.2 in /usr/local/lib/python3.7/dist-packages (from farm-haystack==1.0.0) (1.4.27)\n",
            "Requirement already satisfied: sqlalchemy_utils in /usr/local/lib/python3.7/dist-packages (from farm-haystack==1.0.0) (0.37.9)\n",
            "Requirement already satisfied: faiss-cpu>=1.6.3 in /usr/local/lib/python3.7/dist-packages (from farm-haystack==1.0.0) (1.7.1.post3)\n",
            "Requirement already satisfied: tika in /usr/local/lib/python3.7/dist-packages (from farm-haystack==1.0.0) (1.24)\n",
            "Requirement already satisfied: httptools in /usr/local/lib/python3.7/dist-packages (from farm-haystack==1.0.0) (0.3.0)\n",
            "Requirement already satisfied: nltk in /usr/local/lib/python3.7/dist-packages (from farm-haystack==1.0.0) (3.2.5)\n",
            "Requirement already satisfied: more_itertools in /usr/local/lib/python3.7/dist-packages (from farm-haystack==1.0.0) (8.12.0)\n",
            "Requirement already satisfied: networkx in /usr/local/lib/python3.7/dist-packages (from farm-haystack==1.0.0) (2.6.3)\n",
            "Requirement already satisfied: pymilvus in /usr/local/lib/python3.7/dist-packages (from farm-haystack==1.0.0) (1.1.2)\n",
            "Requirement already satisfied: SPARQLWrapper in /usr/local/lib/python3.7/dist-packages (from farm-haystack==1.0.0) (1.8.5)\n",
            "Requirement already satisfied: mmh3 in /usr/local/lib/python3.7/dist-packages (from farm-haystack==1.0.0) (3.0.0)\n",
            "Requirement already satisfied: weaviate-client==2.5.0 in /usr/local/lib/python3.7/dist-packages (from farm-haystack==1.0.0) (2.5.0)\n",
            "Requirement already satisfied: ray<=1.8.0,>=1.5.0 in /usr/local/lib/python3.7/dist-packages (from farm-haystack==1.0.0) (1.8.0)\n",
            "Requirement already satisfied: dataclasses-json in /usr/local/lib/python3.7/dist-packages (from farm-haystack==1.0.0) (0.5.6)\n",
            "Requirement already satisfied: quantulum3 in /usr/local/lib/python3.7/dist-packages (from farm-haystack==1.0.0) (0.7.9)\n",
            "Requirement already satisfied: azure-ai-formrecognizer==3.2.0b2 in /usr/local/lib/python3.7/dist-packages (from farm-haystack==1.0.0) (3.2.0b2)\n",
            "Requirement already satisfied: psycopg2-binary in /usr/local/lib/python3.7/dist-packages (from farm-haystack==1.0.0) (2.9.2)\n",
            "Requirement already satisfied: uvloop==0.14 in /usr/local/lib/python3.7/dist-packages (from farm-haystack==1.0.0) (0.14.0)\n",
            "Requirement already satisfied: six>=1.11.0 in /usr/local/lib/python3.7/dist-packages (from azure-ai-formrecognizer==3.2.0b2->farm-haystack==1.0.0) (1.15.0)\n",
            "Requirement already satisfied: azure-common~=1.1 in /usr/local/lib/python3.7/dist-packages (from azure-ai-formrecognizer==3.2.0b2->farm-haystack==1.0.0) (1.1.27)\n",
            "Requirement already satisfied: msrest>=0.6.21 in /usr/local/lib/python3.7/dist-packages (from azure-ai-formrecognizer==3.2.0b2->farm-haystack==1.0.0) (0.6.21)\n",
            "Requirement already satisfied: azure-core<2.0.0,>=1.13.0 in /usr/local/lib/python3.7/dist-packages (from azure-ai-formrecognizer==3.2.0b2->farm-haystack==1.0.0) (1.21.1)\n",
            "Requirement already satisfied: regex!=2019.12.17 in /usr/local/lib/python3.7/dist-packages (from transformers==4.13.0->farm-haystack==1.0.0) (2019.12.20)\n",
            "Requirement already satisfied: huggingface-hub<1.0,>=0.1.0 in /usr/local/lib/python3.7/dist-packages (from transformers==4.13.0->farm-haystack==1.0.0) (0.2.1)\n",
            "Requirement already satisfied: sacremoses in /usr/local/lib/python3.7/dist-packages (from transformers==4.13.0->farm-haystack==1.0.0) (0.0.46)\n",
            "Requirement already satisfied: importlib-metadata in /usr/local/lib/python3.7/dist-packages (from transformers==4.13.0->farm-haystack==1.0.0) (4.8.2)\n",
            "Requirement already satisfied: numpy>=1.17 in /usr/local/lib/python3.7/dist-packages (from transformers==4.13.0->farm-haystack==1.0.0) (1.19.5)\n",
            "Requirement already satisfied: filelock in /usr/local/lib/python3.7/dist-packages (from transformers==4.13.0->farm-haystack==1.0.0) (3.4.0)\n",
            "Requirement already satisfied: packaging>=20.0 in /usr/local/lib/python3.7/dist-packages (from transformers==4.13.0->farm-haystack==1.0.0) (21.3)\n",
            "Requirement already satisfied: tokenizers<0.11,>=0.10.1 in /usr/local/lib/python3.7/dist-packages (from transformers==4.13.0->farm-haystack==1.0.0) (0.10.3)\n",
            "Requirement already satisfied: pyyaml>=5.1 in /usr/local/lib/python3.7/dist-packages (from transformers==4.13.0->farm-haystack==1.0.0) (6.0)\n",
            "Requirement already satisfied: validators>=0.18.2 in /usr/local/lib/python3.7/dist-packages (from weaviate-client==2.5.0->farm-haystack==1.0.0) (0.18.2)\n",
            "Requirement already satisfied: urllib3<2,>=1.21.1 in /usr/local/lib/python3.7/dist-packages (from elasticsearch<=7.10,>=7.7->farm-haystack==1.0.0) (1.24.3)\n",
            "Requirement already satisfied: certifi in /usr/local/lib/python3.7/dist-packages (from elasticsearch<=7.10,>=7.7->farm-haystack==1.0.0) (2021.10.8)\n",
            "Requirement already satisfied: typing-extensions>=3.7.4.3 in /usr/local/lib/python3.7/dist-packages (from huggingface-hub<1.0,>=0.1.0->transformers==4.13.0->farm-haystack==1.0.0) (3.10.0.2)\n",
            "Requirement already satisfied: prometheus-flask-exporter in /usr/local/lib/python3.7/dist-packages (from mlflow<=1.13.1->farm-haystack==1.0.0) (0.18.6)\n",
            "Requirement already satisfied: databricks-cli>=0.8.7 in /usr/local/lib/python3.7/dist-packages (from mlflow<=1.13.1->farm-haystack==1.0.0) (0.16.2)\n",
            "Requirement already satisfied: azure-storage-blob>=12.0.0 in /usr/local/lib/python3.7/dist-packages (from mlflow<=1.13.1->farm-haystack==1.0.0) (12.9.0)\n",
            "Requirement already satisfied: sqlparse>=0.3.1 in /usr/local/lib/python3.7/dist-packages (from mlflow<=1.13.1->farm-haystack==1.0.0) (0.4.2)\n",
            "Requirement already satisfied: querystring-parser in /usr/local/lib/python3.7/dist-packages (from mlflow<=1.13.1->farm-haystack==1.0.0) (1.2.4)\n",
            "Requirement already satisfied: entrypoints in /usr/local/lib/python3.7/dist-packages (from mlflow<=1.13.1->farm-haystack==1.0.0) (0.3)\n",
            "Requirement already satisfied: gitpython>=2.1.0 in /usr/local/lib/python3.7/dist-packages (from mlflow<=1.13.1->farm-haystack==1.0.0) (3.1.24)\n",
            "Requirement already satisfied: alembic<=1.4.1 in /usr/local/lib/python3.7/dist-packages (from mlflow<=1.13.1->farm-haystack==1.0.0) (1.4.1)\n",
            "Requirement already satisfied: Flask in /usr/local/lib/python3.7/dist-packages (from mlflow<=1.13.1->farm-haystack==1.0.0) (1.1.4)\n",
            "Requirement already satisfied: protobuf>=3.6.0 in /usr/local/lib/python3.7/dist-packages (from mlflow<=1.13.1->farm-haystack==1.0.0) (3.17.3)\n",
            "Requirement already satisfied: python-dateutil in /usr/local/lib/python3.7/dist-packages (from mlflow<=1.13.1->farm-haystack==1.0.0) (2.8.2)\n",
            "Requirement already satisfied: cloudpickle in /usr/local/lib/python3.7/dist-packages (from mlflow<=1.13.1->farm-haystack==1.0.0) (1.3.0)\n",
            "Requirement already satisfied: click>=7.0 in /usr/local/lib/python3.7/dist-packages (from mlflow<=1.13.1->farm-haystack==1.0.0) (7.1.2)\n",
            "Requirement already satisfied: docker>=4.0.0 in /usr/local/lib/python3.7/dist-packages (from mlflow<=1.13.1->farm-haystack==1.0.0) (5.0.3)\n",
            "Requirement already satisfied: python-editor>=0.3 in /usr/local/lib/python3.7/dist-packages (from alembic<=1.4.1->mlflow<=1.13.1->farm-haystack==1.0.0) (1.0.4)\n",
            "Requirement already satisfied: Mako in /usr/local/lib/python3.7/dist-packages (from alembic<=1.4.1->mlflow<=1.13.1->farm-haystack==1.0.0) (1.1.6)\n",
            "Requirement already satisfied: cryptography>=2.1.4 in /usr/local/lib/python3.7/dist-packages (from azure-storage-blob>=12.0.0->mlflow<=1.13.1->farm-haystack==1.0.0) (36.0.1)\n",
            "Requirement already satisfied: cffi>=1.12 in /usr/local/lib/python3.7/dist-packages (from cryptography>=2.1.4->azure-storage-blob>=12.0.0->mlflow<=1.13.1->farm-haystack==1.0.0) (1.15.0)\n",
            "Requirement already satisfied: pycparser in /usr/local/lib/python3.7/dist-packages (from cffi>=1.12->cryptography>=2.1.4->azure-storage-blob>=12.0.0->mlflow<=1.13.1->farm-haystack==1.0.0) (2.21)\n",
            "Requirement already satisfied: tabulate>=0.7.7 in /usr/local/lib/python3.7/dist-packages (from databricks-cli>=0.8.7->mlflow<=1.13.1->farm-haystack==1.0.0) (0.8.9)\n",
            "Requirement already satisfied: websocket-client>=0.32.0 in /usr/local/lib/python3.7/dist-packages (from docker>=4.0.0->mlflow<=1.13.1->farm-haystack==1.0.0) (1.2.3)\n",
            "Requirement already satisfied: gitdb<5,>=4.0.1 in /usr/local/lib/python3.7/dist-packages (from gitpython>=2.1.0->mlflow<=1.13.1->farm-haystack==1.0.0) (4.0.9)\n",
            "Requirement already satisfied: smmap<6,>=3.0.1 in /usr/local/lib/python3.7/dist-packages (from gitdb<5,>=4.0.1->gitpython>=2.1.0->mlflow<=1.13.1->farm-haystack==1.0.0) (5.0.0)\n",
            "Requirement already satisfied: requests-oauthlib>=0.5.0 in /usr/local/lib/python3.7/dist-packages (from msrest>=0.6.21->azure-ai-formrecognizer==3.2.0b2->farm-haystack==1.0.0) (1.3.0)\n",
            "Requirement already satisfied: isodate>=0.6.0 in /usr/local/lib/python3.7/dist-packages (from msrest>=0.6.21->azure-ai-formrecognizer==3.2.0b2->farm-haystack==1.0.0) (0.6.1)\n",
            "Requirement already satisfied: pyparsing!=3.0.5,>=2.0.2 in /usr/local/lib/python3.7/dist-packages (from packaging>=20.0->transformers==4.13.0->farm-haystack==1.0.0) (3.0.6)\n",
            "Requirement already satisfied: jsonschema in /usr/local/lib/python3.7/dist-packages (from ray<=1.8.0,>=1.5.0->farm-haystack==1.0.0) (2.6.0)\n",
            "Requirement already satisfied: attrs in /usr/local/lib/python3.7/dist-packages (from ray<=1.8.0,>=1.5.0->farm-haystack==1.0.0) (21.2.0)\n",
            "Requirement already satisfied: redis>=3.5.0 in /usr/local/lib/python3.7/dist-packages (from ray<=1.8.0,>=1.5.0->farm-haystack==1.0.0) (4.0.2)\n",
            "Requirement already satisfied: msgpack<2.0.0,>=1.0.0 in /usr/local/lib/python3.7/dist-packages (from ray<=1.8.0,>=1.5.0->farm-haystack==1.0.0) (1.0.3)\n",
            "Requirement already satisfied: grpcio>=1.28.1 in /usr/local/lib/python3.7/dist-packages (from ray<=1.8.0,>=1.5.0->farm-haystack==1.0.0) (1.37.1)\n",
            "Requirement already satisfied: deprecated in /usr/local/lib/python3.7/dist-packages (from redis>=3.5.0->ray<=1.8.0,>=1.5.0->farm-haystack==1.0.0) (1.2.13)\n",
            "Requirement already satisfied: chardet<4,>=3.0.2 in /usr/local/lib/python3.7/dist-packages (from requests->farm-haystack==1.0.0) (3.0.4)\n",
            "Requirement already satisfied: idna<3,>=2.5 in /usr/local/lib/python3.7/dist-packages (from requests->farm-haystack==1.0.0) (2.10)\n",
            "Requirement already satisfied: oauthlib>=3.0.0 in /usr/local/lib/python3.7/dist-packages (from requests-oauthlib>=0.5.0->msrest>=0.6.21->azure-ai-formrecognizer==3.2.0b2->farm-haystack==1.0.0) (3.1.1)\n",
            "Requirement already satisfied: torchvision in /usr/local/lib/python3.7/dist-packages (from sentence-transformers>=0.4.0->farm-haystack==1.0.0) (0.11.1+cu111)\n",
            "Requirement already satisfied: scikit-learn in /usr/local/lib/python3.7/dist-packages (from sentence-transformers>=0.4.0->farm-haystack==1.0.0) (1.0.1)\n",
            "Requirement already satisfied: sentencepiece in /usr/local/lib/python3.7/dist-packages (from sentence-transformers>=0.4.0->farm-haystack==1.0.0) (0.1.96)\n",
            "Requirement already satisfied: greenlet!=0.4.17 in /usr/local/lib/python3.7/dist-packages (from sqlalchemy>=1.4.2->farm-haystack==1.0.0) (1.1.2)\n",
            "Requirement already satisfied: decorator>=3.4.0 in /usr/local/lib/python3.7/dist-packages (from validators>=0.18.2->weaviate-client==2.5.0->farm-haystack==1.0.0) (4.4.2)\n",
            "Requirement already satisfied: marshmallow-enum<2.0.0,>=1.5.1 in /usr/local/lib/python3.7/dist-packages (from dataclasses-json->farm-haystack==1.0.0) (1.5.1)\n",
            "Requirement already satisfied: marshmallow<4.0.0,>=3.3.0 in /usr/local/lib/python3.7/dist-packages (from dataclasses-json->farm-haystack==1.0.0) (3.14.1)\n",
            "Requirement already satisfied: typing-inspect>=0.4.0 in /usr/local/lib/python3.7/dist-packages (from dataclasses-json->farm-haystack==1.0.0) (0.7.1)\n",
            "Requirement already satisfied: mypy-extensions>=0.3.0 in /usr/local/lib/python3.7/dist-packages (from typing-inspect>=0.4.0->dataclasses-json->farm-haystack==1.0.0) (0.4.3)\n",
            "Requirement already satisfied: wrapt<2,>=1.10 in /usr/local/lib/python3.7/dist-packages (from deprecated->redis>=3.5.0->ray<=1.8.0,>=1.5.0->farm-haystack==1.0.0) (1.13.3)\n",
            "Requirement already satisfied: pydantic!=1.7,!=1.7.1,!=1.7.2,!=1.7.3,!=1.8,!=1.8.1,<2.0.0,>=1.6.2 in /usr/local/lib/python3.7/dist-packages (from fastapi->farm-haystack==1.0.0) (1.8.2)\n",
            "Requirement already satisfied: starlette==0.16.0 in /usr/local/lib/python3.7/dist-packages (from fastapi->farm-haystack==1.0.0) (0.16.0)\n",
            "Requirement already satisfied: anyio<4,>=3.0.0 in /usr/local/lib/python3.7/dist-packages (from starlette==0.16.0->fastapi->farm-haystack==1.0.0) (3.4.0)\n",
            "Requirement already satisfied: sniffio>=1.1 in /usr/local/lib/python3.7/dist-packages (from anyio<4,>=3.0.0->starlette==0.16.0->fastapi->farm-haystack==1.0.0) (1.2.0)\n",
            "Requirement already satisfied: Werkzeug<2.0,>=0.15 in /usr/local/lib/python3.7/dist-packages (from Flask->mlflow<=1.13.1->farm-haystack==1.0.0) (1.0.1)\n",
            "Requirement already satisfied: itsdangerous<2.0,>=0.24 in /usr/local/lib/python3.7/dist-packages (from Flask->mlflow<=1.13.1->farm-haystack==1.0.0) (1.1.0)\n",
            "Requirement already satisfied: Jinja2<3.0,>=2.10.1 in /usr/local/lib/python3.7/dist-packages (from Flask->mlflow<=1.13.1->farm-haystack==1.0.0) (2.11.3)\n",
            "Requirement already satisfied: MarkupSafe>=0.23 in /usr/local/lib/python3.7/dist-packages (from Jinja2<3.0,>=2.10.1->Flask->mlflow<=1.13.1->farm-haystack==1.0.0) (2.0.1)\n",
            "Requirement already satisfied: zipp>=0.5 in /usr/local/lib/python3.7/dist-packages (from importlib-metadata->transformers==4.13.0->farm-haystack==1.0.0) (3.6.0)\n",
            "Requirement already satisfied: pytz>=2017.2 in /usr/local/lib/python3.7/dist-packages (from pandas->farm-haystack==1.0.0) (2018.9)\n",
            "Requirement already satisfied: prometheus-client in /usr/local/lib/python3.7/dist-packages (from prometheus-flask-exporter->mlflow<=1.13.1->farm-haystack==1.0.0) (0.12.0)\n",
            "Requirement already satisfied: grpcio-tools<1.38.0,>=1.22.0 in /usr/local/lib/python3.7/dist-packages (from pymilvus->farm-haystack==1.0.0) (1.34.1)\n",
            "Requirement already satisfied: ujson>=2.0.0 in /usr/local/lib/python3.7/dist-packages (from pymilvus->farm-haystack==1.0.0) (5.1.0)\n",
            "Requirement already satisfied: lxml>=2.3.2 in /usr/local/lib/python3.7/dist-packages (from python-docx->farm-haystack==1.0.0) (4.2.6)\n",
            "Requirement already satisfied: num2words in /usr/local/lib/python3.7/dist-packages (from quantulum3->farm-haystack==1.0.0) (0.5.10)\n",
            "Requirement already satisfied: inflect in /usr/local/lib/python3.7/dist-packages (from quantulum3->farm-haystack==1.0.0) (2.1.0)\n",
            "Requirement already satisfied: docopt>=0.6.2 in /usr/local/lib/python3.7/dist-packages (from num2words->quantulum3->farm-haystack==1.0.0) (0.6.2)\n",
            "Requirement already satisfied: joblib in /usr/local/lib/python3.7/dist-packages (from sacremoses->transformers==4.13.0->farm-haystack==1.0.0) (1.1.0)\n",
            "Requirement already satisfied: threadpoolctl>=2.0.0 in /usr/local/lib/python3.7/dist-packages (from scikit-learn->sentence-transformers>=0.4.0->farm-haystack==1.0.0) (3.0.0)\n",
            "Requirement already satisfied: rdflib>=4.0 in /usr/local/lib/python3.7/dist-packages (from SPARQLWrapper->farm-haystack==1.0.0) (6.1.1)\n",
            "Requirement already satisfied: pluggy>=0.12.0 in /usr/local/lib/python3.7/dist-packages (from tox->farm-haystack==1.0.0) (1.0.0)\n",
            "Requirement already satisfied: py>=1.4.17 in /usr/local/lib/python3.7/dist-packages (from tox->farm-haystack==1.0.0) (1.11.0)\n",
            "Requirement already satisfied: virtualenv!=20.0.0,!=20.0.1,!=20.0.2,!=20.0.3,!=20.0.4,!=20.0.5,!=20.0.6,!=20.0.7,>=16.0.0 in /usr/local/lib/python3.7/dist-packages (from tox->farm-haystack==1.0.0) (20.10.0)\n",
            "Requirement already satisfied: toml>=0.9.4 in /usr/local/lib/python3.7/dist-packages (from tox->farm-haystack==1.0.0) (0.10.2)\n",
            "Requirement already satisfied: platformdirs<3,>=2 in /usr/local/lib/python3.7/dist-packages (from virtualenv!=20.0.0,!=20.0.1,!=20.0.2,!=20.0.3,!=20.0.4,!=20.0.5,!=20.0.6,!=20.0.7,>=16.0.0->tox->farm-haystack==1.0.0) (2.4.0)\n",
            "Requirement already satisfied: backports.entry-points-selectable>=1.0.4 in /usr/local/lib/python3.7/dist-packages (from virtualenv!=20.0.0,!=20.0.1,!=20.0.2,!=20.0.3,!=20.0.4,!=20.0.5,!=20.0.6,!=20.0.7,>=16.0.0->tox->farm-haystack==1.0.0) (1.1.1)\n",
            "Requirement already satisfied: distlib<1,>=0.3.1 in /usr/local/lib/python3.7/dist-packages (from virtualenv!=20.0.0,!=20.0.1,!=20.0.2,!=20.0.3,!=20.0.4,!=20.0.5,!=20.0.6,!=20.0.7,>=16.0.0->tox->farm-haystack==1.0.0) (0.3.4)\n",
            "Requirement already satisfied: asgiref>=3.4.0 in /usr/local/lib/python3.7/dist-packages (from uvicorn->farm-haystack==1.0.0) (3.4.1)\n",
            "Requirement already satisfied: h11>=0.8 in /usr/local/lib/python3.7/dist-packages (from uvicorn->farm-haystack==1.0.0) (0.12.0)\n",
            "xpdf-tools-linux-4.03/\n",
            "xpdf-tools-linux-4.03/ANNOUNCE\n",
            "xpdf-tools-linux-4.03/bin32/\n",
            "xpdf-tools-linux-4.03/bin32/pdftotext\n",
            "xpdf-tools-linux-4.03/bin32/pdfinfo\n",
            "xpdf-tools-linux-4.03/bin32/pdftopng\n",
            "xpdf-tools-linux-4.03/bin32/pdfimages\n",
            "xpdf-tools-linux-4.03/bin32/pdftoppm\n",
            "xpdf-tools-linux-4.03/bin32/pdftops\n",
            "xpdf-tools-linux-4.03/bin32/pdfdetach\n",
            "xpdf-tools-linux-4.03/bin32/pdffonts\n",
            "xpdf-tools-linux-4.03/bin32/pdftohtml\n",
            "xpdf-tools-linux-4.03/CHANGES\n",
            "xpdf-tools-linux-4.03/bin64/\n",
            "xpdf-tools-linux-4.03/bin64/pdftotext\n",
            "xpdf-tools-linux-4.03/bin64/pdfinfo\n",
            "xpdf-tools-linux-4.03/bin64/pdftopng\n",
            "xpdf-tools-linux-4.03/bin64/pdfimages\n",
            "xpdf-tools-linux-4.03/bin64/pdftoppm\n",
            "xpdf-tools-linux-4.03/bin64/pdftops\n",
            "xpdf-tools-linux-4.03/bin64/pdfdetach\n",
            "xpdf-tools-linux-4.03/bin64/pdffonts\n",
            "xpdf-tools-linux-4.03/bin64/pdftohtml\n",
            "xpdf-tools-linux-4.03/INSTALL\n",
            "xpdf-tools-linux-4.03/COPYING3\n",
            "xpdf-tools-linux-4.03/doc/\n",
            "xpdf-tools-linux-4.03/doc/pdftotext.1\n",
            "xpdf-tools-linux-4.03/doc/pdfdetach.1\n",
            "xpdf-tools-linux-4.03/doc/pdftopng.1\n",
            "xpdf-tools-linux-4.03/doc/sample-xpdfrc\n",
            "xpdf-tools-linux-4.03/doc/xpdfrc.5\n",
            "xpdf-tools-linux-4.03/doc/pdftops.1\n",
            "xpdf-tools-linux-4.03/doc/pdffonts.1\n",
            "xpdf-tools-linux-4.03/doc/pdftoppm.1\n",
            "xpdf-tools-linux-4.03/doc/pdfimages.1\n",
            "xpdf-tools-linux-4.03/doc/pdftohtml.1\n",
            "xpdf-tools-linux-4.03/doc/pdfinfo.1\n",
            "xpdf-tools-linux-4.03/COPYING\n",
            "xpdf-tools-linux-4.03/README\n"
          ]
        }
      ],
      "metadata": {
        "id": "RKaImY69LLbH",
        "colab": {
          "base_uri": "https://localhost:8080/"
        },
        "outputId": "852aafa6-a93a-43c3-b2b5-d0dc6129b906"
      }
    },
    {
      "cell_type": "code",
      "execution_count": null,
      "source": [
        "from haystack.utils import clean_wiki_text, convert_files_to_dicts, fetch_archive_from_http, print_answers\n",
        "from haystack.nodes import FARMReader, TransformersReader"
      ],
      "outputs": [],
      "metadata": {
        "id": "1ZqNPmyoLLbH"
      }
    },
    {
      "cell_type": "markdown",
      "source": [
        "## Document Store\n",
        "\n",
        "Haystack finds answers to queries within the documents stored in a `DocumentStore`. The current implementations of `DocumentStore` include `ElasticsearchDocumentStore`, `FAISSDocumentStore`,  `SQLDocumentStore`, and `InMemoryDocumentStore`.\n",
        "\n",
        "**Here:** We recommended Elasticsearch as it comes preloaded with features like [full-text queries](https://www.elastic.co/guide/en/elasticsearch/reference/current/full-text-queries.html), [BM25 retrieval](https://www.elastic.co/elasticon/conf/2016/sf/improved-text-scoring-with-bm25), and [vector storage for text embeddings](https://www.elastic.co/guide/en/elasticsearch/reference/7.6/dense-vector.html).\n",
        "\n",
        "**Alternatives:** If you are unable to setup an Elasticsearch instance, then follow the [Tutorial 3](https://github.com/deepset-ai/haystack/blob/master/tutorials/Tutorial3_Basic_QA_Pipeline_without_Elasticsearch.ipynb) for using SQL/InMemory document stores.\n",
        "\n",
        "**Hint**: This tutorial creates a new document store instance with Wikipedia articles on Game of Thrones. However, you can configure Haystack to work with your existing document stores.\n",
        "\n",
        "### Start an Elasticsearch server\n",
        "You can start Elasticsearch on your local machine instance using Docker. If Docker is not readily available in your environment (e.g. in Colab notebooks), then you can manually download and execute Elasticsearch from source."
      ],
      "metadata": {
        "id": "h4aM34a9LLbI"
      }
    },
    {
      "cell_type": "code",
      "execution_count": null,
      "source": [
        "# Recommended: Start Elasticsearch using Docker via the Haystack utility function\n",
        "from haystack.utils import launch_es\n",
        "\n",
        "launch_es()"
      ],
      "outputs": [
        {
          "output_type": "stream",
          "name": "stderr",
          "text": [
            "WARNING - haystack.utils.doc_store -  Tried to start Elasticsearch through Docker but this failed. It is likely that there is already an existing Elasticsearch instance running. \n"
          ]
        }
      ],
      "metadata": {
        "id": "SFkIngf6LLbI",
        "colab": {
          "base_uri": "https://localhost:8080/"
        },
        "outputId": "aacdc86c-2615-4d3e-bde8-9db03f23fb90"
      }
    },
    {
      "cell_type": "code",
      "execution_count": null,
      "source": [
        "# In Colab / No Docker environments: Start Elasticsearch from source\n",
        "! wget https://artifacts.elastic.co/downloads/elasticsearch/elasticsearch-7.9.2-linux-x86_64.tar.gz -q\n",
        "! tar -xzf elasticsearch-7.9.2-linux-x86_64.tar.gz\n",
        "! chown -R daemon:daemon elasticsearch-7.9.2\n",
        "\n",
        "import os\n",
        "from subprocess import Popen, PIPE, STDOUT\n",
        "es_server = Popen(['elasticsearch-7.9.2/bin/elasticsearch'],\n",
        "                   stdout=PIPE, stderr=STDOUT,\n",
        "                   preexec_fn=lambda: os.setuid(1)  # as daemon\n",
        "                  )\n",
        "# wait until ES has started\n",
        "! sleep 30"
      ],
      "outputs": [],
      "metadata": {
        "id": "kb2GBDqBLLbJ"
      }
    },
    {
      "cell_type": "code",
      "execution_count": null,
      "source": [
        "# Connect to Elasticsearch\n",
        "\n",
        "from haystack.document_stores import ElasticsearchDocumentStore\n",
        "document_store = ElasticsearchDocumentStore(host=\"localhost\", username=\"\", password=\"\", index=\"document\")"
      ],
      "outputs": [],
      "metadata": {
        "pycharm": {
          "name": "#%%\n"
        },
        "id": "nb7jjpxZLLbK"
      }
    },
    {
      "cell_type": "markdown",
      "source": [
        "## Preprocessing of documents\n",
        "\n",
        "Haystack provides a customizable pipeline for:\n",
        " - converting files into texts\n",
        " - cleaning texts\n",
        " - splitting texts\n",
        " - writing them to a Document Store\n",
        "\n",
        "In this tutorial, we download Wikipedia articles about Game of Thrones, apply a basic cleaning function, and index them in Elasticsearch."
      ],
      "metadata": {
        "pycharm": {
          "name": "#%% md\n"
        },
        "id": "-n_zcvfpLLbK"
      }
    },
    {
      "cell_type": "code",
      "execution_count": null,
      "source": [
        "# Let's first fetch some documents that we want to query\n",
        "# Here: 517 Wikipedia articles for Game of Thrones\n",
        "from haystack.utils import convert_files_to_dicts\n",
        "# doc_dir = \"data/article_txt_got\"\n",
        "# s3_url = \"https://s3.eu-central-1.amazonaws.com/deepset.ai-farm-qa/datasets/documents/wiki_gameofthrones_txt.zip\"\n",
        "# fetch_archive_from_http(url=s3_url, output_dir=doc_dir)\n",
        "# Convert files to dicts\n",
        "# You can optionally supply a cleaning function that is applied to each doc (e.g. to remove footers)\n",
        "# It must take a str as input, and return a str.\n",
        "dicts = convert_files_to_dicts(dir_path=\"sample_data\", clean_func=clean_wiki_text, split_paragraphs=True)\n",
        "\n",
        "# We now have a list of dictionaries that we can write to our document store.\n",
        "# If your texts come from a different source (e.g. a DB), you can of course skip convert_files_to_dicts() and create the dictionaries yourself.\n",
        "# The default format here is:\n",
        "# {\n",
        "#    'text': \"<DOCUMENT_TEXT_HERE>\",\n",
        "#    'meta': {'name': \"<DOCUMENT_NAME_HERE>\", ...}\n",
        "#}\n",
        "# (Optionally: you can also add more key-value-pairs here, that will be indexed as fields in Elasticsearch and\n",
        "# can be accessed later for filtering or shown in the responses of the Pipeline)\n",
        "\n",
        "# Let's have a look at the first 3 entries:\n",
        "print(dicts[:3])\n",
        "\n",
        "# Now, let's write the dicts containing documents to our DB.\n",
        "document_store.write_documents(dicts)"
      ],
      "outputs": [
        {
          "output_type": "stream",
          "name": "stderr",
          "text": [
            "WARNING - haystack.utils.preprocessing -  Skipped file sample_data/anscombe.json as type .json is not supported here. See haystack.file_converter for support of more file types\n",
            "WARNING - haystack.utils.preprocessing -  Skipped file sample_data/README.md as type .md is not supported here. See haystack.file_converter for support of more file types\n",
            "WARNING - haystack.utils.preprocessing -  Skipped file sample_data/mnist_test.csv as type .csv is not supported here. See haystack.file_converter for support of more file types\n",
            "WARNING - haystack.utils.preprocessing -  Skipped file sample_data/california_housing_test.csv as type .csv is not supported here. See haystack.file_converter for support of more file types\n",
            "WARNING - haystack.utils.preprocessing -  Skipped file sample_data/mnist_train_small.csv as type .csv is not supported here. See haystack.file_converter for support of more file types\n",
            "WARNING - haystack.utils.preprocessing -  Skipped file sample_data/california_housing_train.csv as type .csv is not supported here. See haystack.file_converter for support of more file types\n",
            "INFO - haystack.utils.preprocessing -  Converting sample_data/Continuous_Disclosure_2021-07-27.pdf\n",
            "INFO - haystack.utils.preprocessing -  Converting sample_data/Continuous_Disclosure_2021-10-29.pdf\n",
            "INFO - haystack.utils.preprocessing -  Converting sample_data/Continuous_Disclosure_2021-08-26.pdf\n",
            "INFO - haystack.utils.preprocessing -  Converting sample_data/Continuous_Disclosure_2021-11-15.pdf\n",
            "INFO - haystack.utils.preprocessing -  Converting sample_data/Continuous_Disclosure_2021-08-03.pdf\n",
            "INFO - haystack.utils.preprocessing -  Converting sample_data/Continuous_Disclosure_2021-07-22.pdf\n",
            "INFO - haystack.utils.preprocessing -  Converting sample_data/Continuous_Disclosure_2021-10-22.pdf\n",
            "INFO - haystack.utils.preprocessing -  Converting sample_data/Continuous_Disclosure_2021-09-07.pdf\n",
            "INFO - haystack.utils.preprocessing -  Converting sample_data/Continuous_Disclosure_2021-09-20.pdf\n",
            "INFO - haystack.utils.preprocessing -  Converting sample_data/Continuous_Disclosure_2021-10-01.pdf\n",
            "INFO - haystack.utils.preprocessing -  Converting sample_data/Continuous_Disclosure_2021-06-25.pdf\n",
            "INFO - haystack.utils.preprocessing -  Converting sample_data/Continuous_Disclosure_2021-10-04.pdf\n",
            "INFO - haystack.utils.preprocessing -  Converting sample_data/Continuous_Disclosure_2021-11-05.pdf\n",
            "INFO - haystack.utils.preprocessing -  Converting sample_data/Continuous_Disclosure_2021-07-29.pdf\n",
            "INFO - haystack.utils.preprocessing -  Converting sample_data/Continuous_Disclosure_2021-10-27.pdf\n",
            "INFO - haystack.utils.preprocessing -  Converting sample_data/Continuous_Disclosure_2021-08-18.pdf\n",
            "INFO - haystack.utils.preprocessing -  Converting sample_data/Continuous_Disclosure_2021-09-17.pdf\n",
            "INFO - haystack.utils.preprocessing -  Converting sample_data/Continuous_Disclosure_2021-09-15.pdf\n",
            "INFO - haystack.utils.preprocessing -  Converting sample_data/Continuous_Disclosure_2021-11-08.pdf\n",
            "INFO - haystack.utils.preprocessing -  Converting sample_data/Continuous_Disclosure_2021-07-07.pdf\n",
            "INFO - haystack.utils.preprocessing -  Converting sample_data/Continuous_Disclosure_2021-10-05.pdf\n",
            "INFO - haystack.utils.preprocessing -  Converting sample_data/Continuous_Disclosure_2021-11-18.pdf\n",
            "INFO - haystack.utils.preprocessing -  Converting sample_data/Continuous_Disclosure_2021-08-11.pdf\n",
            "INFO - haystack.utils.preprocessing -  Converting sample_data/Continuous_Disclosure_2021-08-05.pdf\n",
            "INFO - haystack.utils.preprocessing -  Converting sample_data/Continuous_Disclosure_2021-11-30.pdf\n",
            "INFO - haystack.utils.preprocessing -  Converting sample_data/Continuous_Disclosure_2021-10-06.pdf\n",
            "INFO - haystack.utils.preprocessing -  Converting sample_data/Continuous_Disclosure_2021-08-25.pdf\n",
            "INFO - haystack.utils.preprocessing -  Converting sample_data/Continuous_Disclosure_2021-09-29.pdf\n",
            "INFO - haystack.utils.preprocessing -  Converting sample_data/Continuous_Disclosure_2021-07-20.pdf\n",
            "INFO - haystack.utils.preprocessing -  Converting sample_data/Continuous_Disclosure_2021-10-28.pdf\n",
            "INFO - haystack.utils.preprocessing -  Converting sample_data/Continuous_Disclosure_2021-08-16.pdf\n",
            "INFO - haystack.utils.preprocessing -  Converting sample_data/Continuous_Disclosure_2021-09-14.pdf\n",
            "INFO - haystack.utils.preprocessing -  Converting sample_data/Continuous_Disclosure_2021-10-12.pdf\n",
            "INFO - haystack.utils.preprocessing -  Converting sample_data/Continuous_Disclosure_2021-09-21.pdf\n",
            "INFO - haystack.utils.preprocessing -  Converting sample_data/Continuous_Disclosure_2021-10-08.pdf\n",
            "INFO - haystack.utils.preprocessing -  Converting sample_data/Continuous_Disclosure_2021-07-26.pdf\n",
            "INFO - haystack.utils.preprocessing -  Converting sample_data/Continuous_Disclosure_2021-07-09.pdf\n",
            "INFO - haystack.utils.preprocessing -  Converting sample_data/Continuous_Disclosure_2021-11-01.pdf\n",
            "INFO - haystack.utils.preprocessing -  Converting sample_data/Continuous_Disclosure_2021-07-13.pdf\n",
            "INFO - haystack.utils.preprocessing -  Converting sample_data/Continuous_Disclosure_2021-12-03.pdf\n",
            "INFO - haystack.utils.preprocessing -  Converting sample_data/Securities_Offerings_2021-06-25.pdf\n",
            "INFO - haystack.utils.preprocessing -  Converting sample_data/Continuous_Disclosure_2021-10-15.pdf\n",
            "INFO - haystack.utils.preprocessing -  Converting sample_data/Continuous_Disclosure_2021-09-09.pdf\n"
          ]
        },
        {
          "output_type": "stream",
          "name": "stdout",
          "text": [
            "[{'content': \"Canada Business Corporations Act\\nLoi canadienne sur les socits par actions\\nPeak Fintech Group Inc. Groupe Peak Fintech Inc.\\nCorporate name / Dnomination sociale\\nCorporation number / Numro de socit\\nI HEREBY CERTIFY that the articles of the above-named corporation are amended under section 178 of the Canada Business Corporations Act as set out in the attached articles of amendment.\\nJE CERTIFIE que les statuts de la socit susmentionne sont modifis aux termes de l'article 178 de la Loi canadienne sur les socits par actions, tel qu'il est indiqu dans les clauses modificatrices ci-jointes.\\nDate of amendment (YYYY-MM-DD) Date de modification (AAAA-MM-JJ)\\nCanada Business Corporations Act (CBCA) (s. 27 or 177)\\n1 Corporate name Dnomination sociale Peak Fintech Group Inc. Groupe Peak Fintech Inc.\\n2 Corporation number Numro de la socit 1055923-7\\n3 The articles are amended as follows Les statuts sont modifis de la faon suivante\\nFormulaire 4 Clauses modificatrices\\nLoi canadienne sur les socits par actions (LCSA) (art. 27 ou 177)\\nSee attached schedule / Voir l'annexe ci-jointe\\n4 Declaration: I certify that I am a director or an officer of the corporation. Dclaration : J'atteste que je suis un administrateur ou un dirigeant de la socit.\\nOriginal signed by / Original sign par Johnson Joseph Johnson Joseph 514-340-7775\\nMisrepresentation constitutes an offence and, on summary conviction, a person is liable to a fine not exceeding $5000 or to imprisonment for a term not exceeding six months or both (subsection 250 (1) of the CBCA).\\nFaire une fausse dclaration constitue une infraction et son auteur, sur dclaration de culpabilit par procdure sommaire, est passible d'une amende maximale de 5 000 $ et d'un emprisonnement maximal de six mois, ou l'une de ces peines (paragraphe 250(1) de la LCSA).\\nYou are providing information required by the CBCA. Note that both the CBCA and the Privacy Act allow this information to be disclosed to the public. It will be stored in personal information bank number IC/PPU-049.\\nVous fournissez des renseignements exigs par la LCSA. Il est  noter que la LCSA et la Loi sur les renseignements personnels permettent que de tels renseignements soient divulgus au public. Ils seront stocks dans la banque de renseignements personnels numro IC/PPU-049.\\n\\x0cSchedule / Annexe Amendment Schedules / Annexes - Modification\\nThe Article of the Corporation are amended to consolidate the total number of issued and outstanding Common shares into a different number of fully paid Common shares on the basis one (1) Common share for every two (2) Common shares with any fractions resulting therefrom to a holder of Common shares being rounded down to the nearest whole number of Common shares.\", 'meta': {'name': 'Continuous_Disclosure_2021-07-27.pdf'}}, {'content': 'Peak Fintech Signs Collaborative Agreement with Ping An Insurance to Push Policies Aimed at Auto Industry Through Heartbeat Platform\\nMontreal, Quebec--(Newsfile Corp. - October 29, 2021) - Peak Fintech Group Inc. (CSE: PKK) (OTC Pink: PKKFF) (\"Peak\" or the \"Company\"), an innovative Fintech service provider and manager of the Cubeler Business Hub, today announced that it has signed a collaborative agreement with Ping An Insurance (\"Ping An\") to distribute insurance products aimed at the auto industry through the Company\\'s Heartbeat insurance brokerage platform.\\nPing An (https://group.pingan.com/) is not only China\\'s largest insurance company, but it\\'s also the largest insurer in the entire Asia-Pacific region. In addition to insurance, Ping An offers a variety of financial services, including banking and asset management, and has been a pioneer in the development of smart cities across China. All of this has led to Ping An being consistently ranked as the world\\'s top insurance brand year after year.\\nWith the world\\'s largest population, it\\'s no surprise that China also counts the world\\'s largest fleet of cars with an estimated 297 million on the roads in 2021. This naturally makes the Chinese auto insurance market one of the largest in the world, and one in which Ping An plays a dominant role. With today\\'s announced collaborative agreement, Ping An will leverage Peak\\'s Heartbeat insurance platform, which is connected to over 300 car dealerships throughout China, to offer insurance policies specifically designed for the auto industry.\\nPeak Fintech Group Inc. is the parent company of a group of innovative financial technology (Fintech) subsidiaries operating primarily in the commercial lending industry. Peak\\'s subsidiaries bring together lending financial institutions and businesses to create the Cubeler Business Hub, an ecosystem where analytics and artificial intelligence are used to facilitate transactions among members of the ecosystem. For more information: http://www.peakfintechgroup.com\\nFor more information, please contact:\\nCHF Capital Markets Cathy Hume, CEO 416-868-1079 ext.: 251 cathy@chfir.com\\nMZ Group - MZ North America Mark Schwalenberg, CFA 1-312-261-6430 PEAK@mzgroup.us\\nPeak Fintech Group Barry Ellison, Director of Marketing and Communications 514-340-7775 ext.: 521 bellison@peakfintechgroup.com\\nFollow Peak Fintech Group Inc. on social media:\\nTwitter: @peakfintech Facebook: @peakfintech LinkedIn: Peak Fintech\\n\\x0cYouTube: Peak Fintech Forward-Looking Statements / Information: This news release may include certain forward-looking information, including statements relating to business and operating strategies, plans and prospects for revenue growth, using words including \"anticipate\", \"believe\", \"could\", \"expect\", \"intend\", \"may\", \"plan\", \"potential\", \"project\", \"seek\", \"should\", \"will\", \"would\" and similar expressions, which are intended to identify a number of these forward-looking statements. Forward-looking information reflects current views with respect to current events and is not a guarantee of future performance and is subject to risks, uncertainties and assumptions. The Company undertakes no obligation to publicly update or review any forward-looking information contained in this news release, except as may be required by applicable laws, rules and regulations. Readers are urged to consider these factors carefully in evaluating any forward-looking information.\\nTo view the source version of this press release, please visit https://www.newsfilecorp.com/release/101262', 'meta': {'name': 'Continuous_Disclosure_2021-10-29.pdf'}}, {'content': 'Condensed Interim Consolidated Financial Statements (Unaudited)\\nFor the three and six-month periods ended June 30, 2021, and 2020\\nCondensed Interim Consolidated Statements of Comprehensive Profit and Loss\\nCondensed Interim Consolidated Statements of Changes in Equity\\nCondensed Interim Consolidated Statements of Cash Flows\\nCondensed Interim Consolidated Statements of Financial Position\\nNotes to Interim Consolidated Financial Statements\\nPEAK FINTECH GROUP INC. Condensed Interim Consolidated Statements of Comprehensive Profit and Loss\\nFor the three and six-month periods ended June 30, 2021 and 2020\\n(In Canadian dollars, except weighted average number of outstanding shares) (Unaudited)\\nExpenses Cost of service Salaries and fringe benefits Service fees Royalty on software Board remuneration Consulting fees Management fees Professional fees Administrative and indirect cost Public relations and press releases Office supplies, software and utilities Lease expenses Insurance Finance costs Expected credit loss Travel and entertainment Stock exchange and transfer agent costs Translation cost and others Reversal of impairment loss Depreciation of property and equipment Amortization of intangible assets Expiration of deferred finance cost Amortization of financing initial costs Depreciation of right-of-use assets (Gain) Loss on foreign exchange\\nProfit (loss) before income taxes Income tax\\nNet profit (loss) attributable to: Non-controlling interest Owners of the parent\\nItem that will be reclassified subsequently to profit or loss Currency translation adjustment Total comprehensive profit (loss)\\nTotal comprehensive profit (loss) attributable to: Non-controlling interest Owners of the parent\\n265 064 (1 609 661) (1 344 597)\\n(18 799) (1 329 874) (1 348 673)\\nWeighted average number of outstanding shares Basic and diluted profit (loss) per share\\nGoing concern uncertainty (note 2) The accompanying notes are an integral part of these condensed interim consolidated financial statements.\\n\\x0cPEAK FINTECH GROUP INC. Condensed Interim Consolidated Statements of Changes in Equity\\nFor the six-month periods ended June 30, 2021 and 2020\\n(In Canadian dollars) (Unaudited)\\nBalance as of January 1, 2021 Issuance of shares and warrants to settle debts\\nowed for services provided Issuance of shares re business acquisition Exercise of warrants and broker warrants Conversion of convertible debentures Exercise of options Share-based compensation Transactions with owners Net (loss) profit Other comprehensive loss Total comprehensive (loss) profit for the year\\nBalance as of January 1, 2020 Issuance of shares and warrants Issuance of shares and warrants to settle debts\\nowed for services provided Shares to be issued Issuance of convertible debentures and warrants Issuance of bonds and warrants Issue costs - shares and warrants Exercise of warants on surrender of\\nnon-convertible debentures Share-based compensation Transactions with owners Net (loss) profit Other comprehensive profit Total comprehensive profit (loss) for the year\\ncommon shares (number of shares -\\nTotal attributable to owners of\\n50 850 5 886 314 27 483 82 500 741 205 27 632 083 (785 190) (144 117) (929 307) 26 702 774\\n11 770 520 691 559 (76 963) 614 596\\n50 850 5 886 314 27 483 82 500 741 205 39 402 602 (93 631) (221 081) (314 712) 39 087 890\\n436 402 147 492 11 643 749 (1 609 661) 454 451 (1 155 210) 10 488 539\\n10 441 584 265 064 169 086 434 150\\n436 402 147 492 22 085 333 (1 344 597) 623 537 (721 060) 21 364 273\\nThe accompanying notes are an integral part of these condensed interim consolidated financial statements.\\nPEAK FINTECH GROUP INC. Condensed Interim Consolidated Statements of Financial Position\\nAs at June 30, 2021 and December 31, 2020\\n(In Canadian dollars) (Unaudited)\\nCash Restricted cash Loans receivable Assets held for esale Debtors Deposit for investments Prepaid expenses\\nLoans receivable Property and equipment Intangible assets Deferred Tax assets\\nAccounts payable, advances and accrued liabilities Lease liabilities Current tax liabilities Debentures Conversion option\\nBonds CEBA Loan Lease liabilities\\nSHAREHOLDERS\\' DEFICIENCY Capital stock Shares to be issued Contributed surplus Accumulated other comprehensive income Deficit Shareholders\\' equity attributable to owners of the parent Non-controlling interest Total shareholders\\' equity\\nGoing concern uncertainty (note 2) Subsequent events (note 20)\\nThe accompanying notes are an integral part of these condensed interim consolidated financial statements.\\n/S/ Charles-Andr Tessier Director\\nPEAK FINTECH GROUP INC. Condensed Interim Consolidated Statements of Cash Flows\\nFor the three and six-month periods ended June 30, 2021 and 2020\\n(In Canadian dollars) (Unaudited)\\nOPERATING ACTIVITIES Net profit (loss) Non-cash items\\nExpected credit loss Depreciation of property and equipment Depreciation of right-of-use assets Amortization of intangible assets Amortization of initial cost debenture Reversal of impairment loss Accretion of debentures and bonds Accretion of lease interest Issuance of shares for settlement of debt Expiration of deferred financing cost Share-based compensation\\nLoans receivable maturing in more than 12 months Net changes in working capital items\\nIncome tax payable Debtors Loans receivable maturing in less than 12 months Prepaid expenses Deposits made for transactions on platforms Accounts payable, advances and accrued liabilities Deposits received for transactions on platforms Cash flows from operating activities\\nINVESTING ACTIVITIES Debtors Property and equipment - additions Property and equipment - disposals Intangible asset - additions Cash flows from investing activities\\nFINANCING ACTIVITIES Proceeds repayments re advances from third parties Proceeds from advances made from a Director Proceeds from advances made from affiliates Repayment of advances made from a Director Debenture subscription received Repayment of lease liabilities Proceeds fom the issuance of shares and warrants Proceeds from the issuance of debentures Proceeds from the issuance of Bonds Proceeds from the issuance of CEBA Loan Proceeds from the exercise of warrants Proceeds from the exercise of options Shares to issue Non-controlling interest Cash flows from financing activities\\nIMPACT OF FOREIGN EXCHANGE Net (decrease) increase in cash\\nCash, beginning of period Cash, end of period\\n(520 847) 1 613 096 (440 558) 1 097 761 (7 452 368) 1 787 031 4 349 056\\n161 534 (2 600 892) (3 291 700) 1 768 492\\n9 246 43 302 113 906 222 432 13 376 (193 717) 13 554 13 970 15 000  741 205\\n696  278 678  413 179 353 377 147 492\\n254 716 (3 682 221) (3 470 559)\\n388 556 (17 923)  (554 216) (183 583)\\n(63 580)     2 178 153 92 500   1 758 198\\n     (74 423) 73 000  288 159 40 000   265 000 (18 799) 572 937\\n(110 000) (246 894) 618 000 160 000 288 159\\n40 000   265 000 434 150 1 123 120\\nThe accompanying notes are an integral part of these condensed interim consolidated financial statements.\\nNotes to Condensed Interim Consolidated Financial Statements\\nFor the six-month periods ended June 30, 2021 and 2020\\n1 - GOVERNING STATUTES, NATURE OF OPERATIONS AND GENERAL INFORMATION\\nPeak Fintech Group Inc. (hereinafter \\'\\'Peak\\'\\' or the \"Company\") was incorporated pursuant to the provisions of the Business Corporations Act (Alberta) on May 13, 2008, and continued under the Canada Business Corporations Act on April 4, 2011. Peak Fintech Group Inc.\\'s executive offices are located at 550 Sherbrooke Street West, Suite 265, Montral, Qubec, Canada. Its shares are traded on the Canadian Stock Exchange (CSE) under the symbol \"PKK\". Its shares are quoted in the U.S. on the OTC Market\\'s Groups (OTCQX) under the symbol \\'\\'PKKFF\\'\\'.\\nPeak is the parent company of a group of innovative financial technology (Fintech) subsidiaries operating primarily in the commercial lending industry. Peak\\'s subsidiaries bring together lending financial institutions and businesses to create the Cubeler Business Hub, an ecosystem where analytics and artificial intelligence are used to facilitate transactions among members of the ecosystem.\\n2 - GOING CONCERN UNCERTAINTY AND COVID-19\\nThese condensed interim consolidated financial statements have been prepared on the basis of accounting principles applicable to a going concern, which assume that the Company will continue in operation and will be able to realize its assets and discharge its liabilities in the normal course of operations. In assessing whether the going concern assumption is appropriate, management takes into account all available information about the future, which is at least, but not limited to twelve months from the end of the reporting period. The use of these principles may not be appropriate.\\nThe level of revenue currently being generated is not presently sufficient to meet the Company\\'s working capital requirements. The Company\\'s ability to continue as a going concern is dependent upon its ability to raise additional financing. Even if the Company has been successful in the past in doing so, there is no assurance that it will manage to obtain additional financing in the future. Also, the Company incurred a net loss of $93,631 for the six-month period ended June 30, 2021 (year ended December 31, 2020 - $5,513,511), it has an accumulated deficit of $31,025,562 as at June 30, 2021 ($30,240,372 as at December 31, 2020) and it has not yet generated positive cash flows from operations on a regular basis. Until that happens, the company will continue to assess its working capital needs and undertake whatever initiatives it deems necessary to ensure that it continues to be in a position to meet its financial obligations. These material uncertainties cast significant doubt regarding the Company\\'s ability to continue as a going concern.\\nThe World Health Organization declared the COVID-19 outbreak as a global pandemic in March 2020. Since that time, businesses all over the world from a wide swath of industries have seen their operations negatively impacted by the health and safety measures, including limitations on the movement of goods and individuals, put into place by local governments to help control the spread of the outbreak. Although those measures have been relaxed in recent months, which has allowed many businesses, including the Company, to slowly resume their operations, there still remains a great deal of uncertainty as to the extent and duration of the future impact of COVID-19 on global commerce and the Company\\'s business.\\nThese condensed interim consolidated financial statements do not include any adjustments or disclosures that may be necessary should the Company not be able to continue as a going concern. If this were the case, these adjustments could be material.\\n3 - SUMMARY OF SIGNIFICANT ACCOUNTING POLICIES\\nStatement of compliance with IFRS\\nThese condensed interim consolidated financial statements for the six-month period ended June 30, 2021, have been prepared in accordance with the International Accounting Standard 34, Interim Financial Reporting (\\'\\'IAS 34\\'\\'). Since they are condensed financial statements, certain information and footnote disclosures normally included in annual financial statements prepared in accordance with International Financial Reporting Standards (\\'\\'IFRS\\'\\') as issued by the International Accounting Standards Board (\\'\\'IASB\\'\\'), have been voluntarily omitted or summarized.\\nThe preparation of financial statements in accordance with IAS 34 requires the use of certain accounting estimates. It also requires management to exercise judgment in applying the Company\\'s accounting policies. The areas involving a higher degree of judgment or complexity, or areas where assumptions and estimates are significant to the financial statements have been set out in note 5 of the Company\\'s consolidated financial statements for the year ended December 31, 2020. There have not been any significant changes in judgments, estimates or assumptions since then. These condensed interim consolidated financial statements should be read in conjunction with the Company\\'s consolidated financial statements for the year ended December 31, 2020.\\nNotes to Condensed Interim Consolidated Financial Statements\\nFor the six-month periods ended June 30, 2021 and 2020\\n3 - SUMMARY OF SIGNIFICANT ACCOUNTING POLICIES (CONTINUED)\\nStatement of compliance with IFRS (Continued)\\nThe same accounting policies and methods of computation were used in the preparation of these condensed interim consolidated financial statements as were followed in the preparation of the consolidated financial statements for the year ended December 31, 2020 except for new standards and interpretations effective January 1, 2021.\\nThese condensed interim consolidated financial statements for the three and six-month periods ended June 30, 2021 (including comparative figures) were approved by the Board of Directors on August 26, 2021.\\nThese consolidated financial statements are prepared on an accrual basis using the historical cost method.\\nThese condensed interim consolidated financial statements include the accounts of Peak and all of its subsidiaries. The Company attributes total comprehensive income or loss of the subsidiary between the owners of the parent company and the non-controlling interests based on their respective ownership interests.\\nThe following entities have been consolidated within these condensed interim consolidated financial statements:\\nEntities Peak Fintech Group Inc.\\nAsia Synergy Limited Asia Synergy Holdings Asia Synergy Technologies Ltd.\\n% of ownership and voting right\\nAsia Synergy Supply Chain Technologies Ltd (1)\\nZhejiang Xinjiupin Clean Tech  Oil & Gas Management Co. Ltd (1)\\nAsia Synergy Data Solutions Ltd.\\nAsia Synergy Credit Solutions Ltd\\nXinxiang (insurance services) Technologies Ltd (1)\\nWuxi Aorong Ltd. Asia Synergy Financial Capital Ltd\\nNotes to Condensed Interim Consolidated Financial Statements\\nFor the six-month periods ended June 30, 2021 and 2020\\nNotes to Condensed Interim Consolidated Financial Statements\\nFor the six-month periods ended June 30, 2021 and 2020\\n3 - SUMMARY OF SIGNIFICANT ACCOUNTING POLICIES (CONTINUED)\\nBasis of Consolidation (continued)\\n(1): Creation of new subsidiaries\\nIn November 2020, the Company created a new subsidiary called Asia Synergy Supply Chain Technology (\"ASST\") as a wholly owned subsidiary of the Company\\'s Asia Synergy Technologies (\"AST\") subsidiary. ASST was created to allow the Company to provide services related to the distribution of food products and beverages. As a result, AST owns 100% interest in ASST.\\nIn May 2021, the Company created a new subsidiary called Zhejiang Xinjiupin Clean Tech  Oil & Gas Management Co. Ltd. (\"AJP\") as a wholly owned subsidiary of the Company\\'s Asia Synergy Technologies (\"AST\") subsidiary. AJP was created to allow the Company to provide services related to the selling and distribution of oil and gas products and clean technology products. As a result, AST owns 100% interest in AJP.\\nIn June 2021, the Company created a new subsidiary called Xinxiang (insurance services) Technologies Ltd. (\"ASSI\") as a wholly owned subsidiary of the Company\\'s Asia Synergy Data Solutions (\"ASDS\") subsidiary. ASSI was created to allow the Company to provide services related to the selling and distribution of property and liability insurance products in China. As a result, ASDS owns 100% interest in ASSI.\\nAll the subsidiaries have December 31 financial year-end dates and are incorporated in either Canada, Hong Kong or China. All intercompany transactions and accounts were eliminated upon consolidation, including unrealized gains or losses on intercompany transactions. Where unrealized losses on intercompany asset sales are reversed upon consolidation, the underlying asset is also tested for impairment from the Company\\'s perspective. Accounting policies of subsidiaries have been adjusted where necessary to ensure consistency with the policies adopted by the Company.\\nProfit or loss of subsidiaries acquired or disposed of during the year are recognized from the effective date of acquisition, or up to the effective date of disposal, as applicable.\\nFunctional and presentation currency\\nThe consolidated financial statements are presented in Canadian dollars, which is also the functional currency of the parent company.\\nNew Standards adopted as at January 1, 2021\\nSome accounting pronouncements which have become effective from January 1, 2021, and have therefore been adopted do not have a significant impact on the Company financial results or position.\\nOn January 1, 2019, the Company, through its Asia Synergy Credit Solutions (\"ASCS\") subsidiary, transferred certain assets and personnel from Wuxi Wenyi Financial Services Co. (\"Wenyi\") to ASSC. Wenyi offers turn-key credit outsourcing services to banks and other lending institutions in China. The asset transfer was made to enhance the Company position in the commercial lending market in China. The assets acquired were intangible assets consisting of loan-servicing agreements. The assets acquired were determined to constitute a business combination and, accordingly, the acquisition was be accounted for using the acquisition method of accounting.\\nThe purchase price payable for this acquisition was to be settled with the issuance of up a maximum of 2,000,000 common shares of the Company. The final value of consideration payable was contingent on achievement by ASCS of certain financial performance metrics during its first 18 months of operations. In the event that 2,000,000 shares were to be issued after the 18-month period and the listed common share price of the Company was less than $1.00 at that time, the Company was to issue additional shares to bring the aggregate consideration value to $2,000,000.\\nNotes to Condensed Interim Consolidated Financial Statements\\nFor the six-month periods ended June 30, 2021 and 2020\\n4 - BUSINESS COMBINATION (CONTINUED)\\nAs at June 30, 2020, the 18 month performance period concluded and based on actual results of ASCS the final contingent consideration payable was settled at $530,675. As per the asset transfer agreement, the total number of shares issuable to settle the consideration totaled 1,340,000 at an average issue price of $0.40 per share.\\nOn November 11, 2020, the Company issued 317,663 common shares of the Company, at $0,40 per share, in part settlement ($127,065) of the consideration payable under the asset transfer agreement. On April 8, 2021, the Company issued the final tranche of shares under the agreement (1,022,337 at $0,40 per share totaling $403,610). As at June 30, 2021, the consideration remaining payable under the agreement totaled $Nil (December 31, 2020 - $403,610).\\n5 - LOANS RECEIVABLES AND ALLOWANCE FOR CREDIT LOSSES\\nThe Company\\'s Asia Synergy Financial Capital (\"ASFC\") subsidiary provides various financial services to small and medium size enterprises and entrepreneurs in China, including loans.\\nASFC\\'s loans are either guaranteed by a third party and/or collateral assets. The loans secured with collateral are either secured by used vehicles or by the residential properties of the borrowers. Loans that are not guaranteed by collateral assets are insured by a third party.\\nLoans guaranteed by used vehicles.\\nThe used vehicles are valued by ASFC\\'s credit department before approving a loan. The loan value at inception represents typically between 50% to 80% of the collateral value with an average of 78% as at June 30, 2021 (78% as at December 31, 2020). The used vehicles\\' collateral value are evaluated at the beginning of the loans and periodically during the life of the loans, based on an industry recognized used car guide which has been validated by ASFC personnel, their knowledge, experience and the inspection process before approval of the loans.\\nLoans guaranteed by second rank mortgage on residential property\\nBefore approving a loan, ASFC\\'s credit department will assess the value of any other mortgages taken out on the residential property and put as collateral by the prospective borrower. The loan value at inception typically represents between 25% and 32% of the collateral value exceeding the first rank mortgage taken by the borrower. The value of the residential property is evaluated at the beginning of the loan and periodically during the life of the loan based on a residential broker site, which is validated by ASFC personnel, their knowledge, experience and inspection process before approval of the loan.\\nAll the loans secured by collateral assets are registered on the appropriate government regulated system.\\nCredit Loans guaranteed by a third party\\nASFC makes loans to small and medium enterprises in the technology sector through the Company\\'s Business Hub. Before approving a loan, ASFC relies on the credit evaluation of the borrower. The credit evaluation includes: the borrower\\' company\\'s credit profile, operating performance, financial statements, tax payments/receipt records, shareholders\\' structure and their individual credit ratings. Based on the result of this initial evaluation, ASFC will then proceed to sign a loan agreement with the SME borrowers. To mitigate the default risk in the case of any overdue situation incurred regarding the loans, a letter of guarantee must also be signed before a loan is finally granted to SME borrowers. Accordingly, a 3rd party must accept to provide a full guarantee to cover any overdue principal and interest on behalf of the borrowers. ASFC will also perform on-going monitoring of SMEs borrowers in the tech industry through the Business Hub app, visits, phone calls and follow- up on business models development.\\nNotes to Condensed Interim Consolidated Financial Statements\\nFor the six-month periods ended June 30, 2021 and 2020\\n5 - LOANS RECEIVABLES AND ALLOWANCE FOR CREDIT LOSSES (CONTINUED)\\nFor the majority of loans granted, principal and interest are payable by the borrower on a monthly basis.\\nLoans receivables are described as follows :\\nPrincipal balance loans receivables Less expected credit loss (ECL) Loan receivables net\\nLoans receivables maturing in less than 12 months Loans receivables maturing in more than 12 months Total loans\\nImpaired loans and allowances for credit loss\\nThe Company performed a three-stage forward looking impairment approach to its loan portfolio to measure the expected credit loss as described in detail in note 4.11 of the annual consolidated financial statements for the year ended December 31, 2020.\\nThe following table presents the gross carrying amount of loans receivables at June 30, 2021 and December 31, 2020 , according to credit quality and ECL impairment stages.\\nECL is calculated on loan value at the period end that are not insured by a third party with an assumption of a credit loss allocation provision applied as follows:\\nStage 1 : 1% Stage 2: 30% Stage 3 :100%\\nCredit loss allocation applied - Auto\\nallocation applied Residential Property\\nStage 1 Not overdue <= 30 Days Stage 2 Overdue 3090 days Stage 3 Overdue> 90 days Total\\nGross Carrying amount $ 18 430 566 35 010 3 124 592 21 590 169\\nAllowance for credit loss $ (288 736)  (284 932) (573 668)\\nNet Carrying Amount $ 18 141 830 35 010 2 839 661 21 016 501\\nNotes to Condensed Interim Consolidated Financial Statements\\nFor the six-month periods ended June 30, 2021 and 2020\\n5 - LOANS RECEIVABLES AND ALLOWANCE FOR CREDIT LOSSES (CONTINUED)\\nStage 1 Not overdue <= 30 Days Stage 2 Overdue 3090 days Stage 3 Overdue> 90 days Total\\nGross Carrying amount $ 15 652 125 1 110 537 3 246 443 20 009 105\\nAllowance for credit loss $ (224 798) (3 332) (356 287) (584 417)\\nNet Carrying Amount $ 15 427 327 1 107 205 2 890 156 19 424 688\\nThe loss allowance for loans to customers as at June 30, 2021, broken down by product type, reconciles to the opening loss allowance for that provision as follows:\\nLoss allowance as at December 31, 2020 Individual financial assets transferred to (from) stage 2 (lifetime expected credit losses) Individual financial assets transferred to (from) stage 3 Credit-impaired financial assets New financial assets originated Write-offs Recoveries Change in Credit loss allocation + ECL % assumption Foreign exchange\\n(193 854) (42 607) 144 291 16 412\\nLoss allowance as at June 30, 2021\\nProduct Type - Residential property\\nLoss allowance as at December 31, 2020 Individual financial assets transferred to (from) stage 2 (lifetime expected credit losses) Individual financial assets transferred to (from) stage 3 Credit-impaired financial assets New financial assets originated Write-offs Recoveries Change in Credit loss allocation + ECL % assumption Foreign exchange\\nLoss allowance as at June 30, 2021\\n\\x0cPEAK FINTECH GROUP INC. Notes to Condensed Interim Consolidated Financial Statements\\nFor the six-month periods ended June 30, 2021 and 2020\\n(In Canadian dollars) (Unaudited)\\n5 - LOANS RECEIVABLES AND ALLOWANCE FOR CREDIT LOSSES (CONTINUED)\\nLoss allowance as at December 31, 2020\\nIndividual financial assets transferred to (from) stage 2\\n(lifetime expected credit losses)\\nIndividual financial assets transferred to (from) stage 3\\nCredit-impaired financial assets\\nNew financial assets originated\\nChange in Credit loss allocation + ECL % assumption\\nLoss allowance as at June 30, 2021\\nThe loss allowance for loans to customers as at December 31, 2020, broken down by product type, reconciles to the opening loss allowance for that provision as follows:\\nLoss allowance as at December 31, 2019 Individual financial assets transferred to (from) stage 2 (lifetime expected credit losses)* Individual financial assets transferred to (from) stage 3 Credit-impaired financial assets New financial assets originated Write-offs Recoveries Change in Credit loss allocation + ECL % assumption\\nLoss allowance as at December 31, 2020\\n   (131 720)  219 994 (24 364)  288 265\\n492  134 168 (1 477)  78 155 (223 019) 353 321\\nNotes to Condensed Interim Consolidated Financial Statements\\nFor the six-month periods ended June 30, 2021 and 2020\\n5 - LOANS RECEIVABLES AND ALLOWANCE FOR CREDIT LOSSES (CONTINUED)\\nProduct Type - Residential property\\nLoss allowance as at December 31, 2019 Individual financial assets transferred to (from) stage 2 (lifetime expected credit losses)* Individual financial assets transferred to (from) stage 3 Credit-impaired financial assets New financial assets originated Write-offs Recoveries Change in Credit loss allocation + ECL % assumption\\nLoss allowance as at December 31, 2020\\nLoss allowance as at December 31, 2019 Individual financial assets transferred to (from) stage 2 (lifetime expected credit losses)* Individual financial assets transferred to (from) stage 3 Credit-impaired financial assets New financial assets originated Write-offs Recoveries Change in Credit loss allocation + ECL % assumption\\nLoss allowance as at December 31, 2020\\nSales tax receivable Advances to a company (1) Deposits made for transactions on platforms Accounts receivable Safety deposits with guarantor (2) Service deposits (3) Subscriptions receivable\\n21 011 17 139  28 834 941 692 766 974 500 35 000 30 575 357\\n(1) As per an agreement with a prospective customer of the Gold River platform, the Company agreed to advance an amount to secure certain transactions on the platform during the first quarter of 2021. The transactions were successfully performed and the advance was reimbursed to the Company in the second quarter of 2021.\\n(2) As per an agreement with certain loan insurance providers, ASCS, a subsidiary of the Company must maintain a deposit with a loan insurance providers representing 10% of the value of loans serviced by ASCS on behalf of certain commercial banks guaranteed by loan insurance providers. ASCS\\'s third party financial partners and the Company\\'s ASFC subsidiary have a threeway agreement in place with ASCS under which third party financial partners and ASFC are jointly responsible for providing and maintaining the 10% safety deposit with loan insurance providers on behalf of ASCS in exchange for a service fee representing a percentage of the amount of the safety deposit provided. The agreement indicates that in case of default by the borrowers, ASCS retains all rights to realize the collateral.\\nNotes to Condensed Interim Consolidated Financial Statements\\nFor the six-month periods ended June 30, 2021 and 2020\\n(3) As per an agreement signed with a third party to finance the purchase or leasing of vehicles in the city of Xi\\'An, ASDS, a subsidiary of the Company, provides deposits which are used to help to secure capital contributed by financial institutions such as banks and lenders in mainland China on the Company\\'s Business Hub. The deposits are to be returned to ASDS in the event the agreement is terminated. In exchange for the deposits, ASDS receives a 2% referral fee for each vehicle leasing and financing transaction conducted under the agreement. ASDS retains the right to retrieve at any time the $959,500.(December 31, 2020 - $974,500) deposit committed as per agreement.\\nDebtors amounts are presented on the consolidated statements of financial position net of the allowance for doubtful accounts. In measuring the expected credit losses, the accounts receivables have been assessed on a collective basis as they possess shared credit risk characteristics. They have been grouped based on the days past due. The expected loss rates are based on the payment profile for sales based on historical credit losses. Accounts receivables are written off by taking in consideration third party guarantee on payment of debtors and if there is no reasonable expectation of recovery.\\nWhen measuring the expected credit losses of other debtors, Advances to a company, Safety deposits with guarantor, Service deposits and Subscriptions receivable , are assessed individually due to the low number of accounts. The expected loss rates are based on the payment profile of debtor, assessed by the company\\'s lending hub system.\\nDebtors are written off (i.e. de-recognized) when there is no reasonable expectation of recovery. Failure to make payments within 180 days from the invoice date and failure to engage with the Issuer on alternative payment arrangements, amongst other things, are considered indicators of no reasonable expectation of recovery. As at June 30, 2021 an amount of $218,262 ($273,932 at December 31, 2020) was registered for expected credit loss for debtors.\\nGross carrying amount Balance as at January 1,2021 Acquisitions Disposals Balance as at June 30, 2021\\nAccumulated amortization Balance as at January 1, 2021 Amortization Disposals Exchange differences Balance as at June 30, 2021 Net carrying amount as at June 30, 2021\\n(7 444) 34 930 1 119 502 482 618\\nGross carrying amount Balance as at January 1, 2020 Acquisition Balance as at December 31, 2020\\nAccumulated amortization Balance as at January 1, 2020 Amortization Exchange differences Balance as at December 31, 2020 Net carrying amount as at December 31, 2020\\n415 644 406 762 (22 340) 800 066 336 419\\n36 546 36 820 (3 014) 70 352 51 985\\n22 374 50 112 (8 097) 64 389 140 969\\n474 564 493 694 (33 451) 934 807 529 372\\nNotes to Condensed Interim Consolidated Financial Statements\\nFor the six-month periods ended June 30, 2021 and 2020\\nGross carrying amount Balance as at January 1, 2021 Acquisition Reversal of impairment loss Balance as at June 30, 2021\\nAccumulated amortization Balance as at January 1, 2021 Amortization Exchange differences Balance as at June 30, 2021 Net carrying amount as at June 30, 2021\\nGross carrying amount Balance as at January 1, 2020 Acquisition Balance as at December 31, 2020\\nAccumulated amortization Balance as at January 1, 2020 Amortization Exchange differences Balance as at December 31, 2020 Net carrying amount as at December 31, 2020\\n9 - ACCOUNTS PAYABLE, ADVANCES AND ACCRUED LIABILITIES\\nTrade accounts payable and accruals Advance from third party, annual interest 10% Advance from a director, no interest (note 16) Deposits received for transactions on platforms Advance from an affiliated company (notes 6 and 16)\\nBalance  beginning of year Additions Accretion interest Lease payments Effect of exchange rate change on obligation Balance  end of period Current Portion\\n242 364 236 850 (86 032) 393 182 2 019 877\\n13 912 (76 172) (13 271) 310 893 169 985 140 908\\n22 717 164 1 391 001 270 911 2 140 217 40 134\\nNotes to Condensed Interim Consolidated Financial Statements\\nFor the six-month periods ended June 30, 2021 and 2020\\n10 - LEASE LIABILITIES (CONTINUED)\\nFollowing is a summary of the Company\\'s obligations regarding lease payments:\\nAs at June 30, 2021 Lease payments\\nAs at December 31, 2020 Lease payments\\nThe movement in debentures during the years ended December 31, 2020 and December 31, 2019, was as follows:\\nDebenture issued of December 19, 2018 Debenture issued of April 24, 2019 Debenture issued of January 15, 2020 Balance  end of period / year Current portion\\n11 a) Debenture issuance of December 19, 2018\\nDuring the six-month period ended June 30, 2021, Nil (six-month period ended June 30, 2020 - 1,000,000) warrants were exercised at a price of $0.50 per share following surrendering of debentures for a total face value of $ Nil (six-month period ended June 30, 2020 $500,000) (note 12.3 (c)).\\n11 b) Debenture issuance of April 24, 2019\\nThe movement during the six-month period ended June 30, 2021 and the year ended December 31, 2020, relating this debenture can be summarized as follows:\\nBalance at the beginning Accretion of debentures Conversion of debentures Balance at the end\\nDuring the six-month period ended June 30, 2021, $25,000 (six-month period ended June 30, 2020, $Nil) face value of debentures were converted to 50,000 (six-month period ended June 30, 2020 - Nil) common shares of the Company at a price of $0.50 per share (notes 12.2 (a)).\\nThe share capital of the Company consists of an unlimited number of common shares without par value.\\nEffective July 28, 2020, the Company consolidated its issued and outstanding common shares on the basis of one post-consolidation share for 10 pre-consolidation shares. Unless otherwise stated, all share amounts have been restated retrospectively to reflect this share consolidation.\\nNotes to Condensed Interim Consolidated Financial Statements\\nFor the six-month periods ended June 30, 2021 and 2020\\n12 - SHAREHOLDERS\\' EQUITY (CONTINUED)\\nDescription of the shareholders\\' equity operations during the six-month period ended June 30, 2021\\nDuring the six-month period ended June 30, 2021, $25,000 of secured debentures with a conversion price of $0.50 per share\\nwere converted into common shares of the Company. At the date of conversion these debentures had an amortized cost totalling\\n$23,994. The Company therefore issued 50,000 common shares to the debenture holders and recorded $23,994 in share capital.\\nIn addition, amounts of $3,489 related to these debenture conversions, were transferred to capital stock from conversion options\\nin the consolidated statement of financial position.\\nDuring the six-month period ended June 30, 2021, the Company issued 33,351 common shares at an average price of $1.52 per share\\nto settle $50,850 of debts related to services received by the Company, of which $15,000 was recorded in public relations fees in the\\ncondenssed interim consolidated statements of comprehensive loss, $35,850 was recorded against accounts payable and accruals in\\nthe condensed interim consolidated statements of financial position.\\nDuring the six-month period ended June 30, 2021, the Company issued 14,315,464 common shares at an average exercise price\\nof $0.41 per share for total proceeds of $5,993,925 upon the exercise of share purchase warrants, and $2,135,722 related to\\nexercised warrants were transferred from contributed surplus to share capital in the condensed interim statements of consolidated\\nDuring the six-month period ended June 30, 2021, the Company issued 165,000 common shares at an average exercise price of $0.50 per share for total proceeds of $82,500 upon the exercise of stock options, and $79,590 related to exercised stock options were transferred from contributed surplus to share capital in the condensed interim statements of consolidated equity (note 13).\\nOn April 8, 2021 the Company issued the final tranche of 1,022,337 common shares at $0.40 per share with a total consideration of $403,610 in relation to a business combination (refer note 4). Consequently $403,610 was credited to share capital with the offset being debited to equity to issue in the condensed interim statement of consolidated equity.\\nDescription of the shareholders\\' equity operations during the six-month period ended June 30, 2020\\nOn February 3, 2020, the Company closed a private placement consisting of the sale of 1,440,000 units (a \\'\\'Unit\\'\\') at a price of $0.40 per Unit for proceeds of $576,000. Each unit consists of one (1) common share and half (1/2) common share purchase warrant. Each warrant entitles the holder to purchase one (1) share of the Company at the price of $1.00 each for a period of twenty-four (24) months from the date of issuance.\\nThe fair value of the 720,000 warrants was $157,547. The value attributed to contributed surplus was $112,653. The fair value was calculated using the Black & Scholes option pricing model and the following weighted average assumptions:\\nShare price at the date of grant Expected life Risk-free interest rate Expected volatility (1) Dividend Exercise price at the date of grant\\nOn April 4, 2020, the Company closed a private placement consisting in the sale of 300,000 shares at a price of $0.25 per shares for gross proceeds of $75,000.\\nDuring the six-month period ended June 30, 2020, $500,000 of secured debentures were surrendered to exercise share purchase warrants at a price of $0.50 per share pursuant to the private placement closed in December 2017. At the date of conversion these debentures had a amortised cost totalling $436,402. The Company therefore issued 1,000,000 common shares at a price of $0.43 per share to the debenture holders and recorded $436,402 in share capital. In addition, a corresponding residual value of $99,153 attributed to these warrants was transferred to capital stock from contributed surplus.\\nNotes to Condensed Interim Consolidated Financial Statements\\nFor the six-month periods ended June 30, 2021 and 2020\\nThe outstanding options as at June 30, 2021 and December 30, 2020 and the respective changes during the six-month periods then ended, are summarized as follows:\\nOutstanding, beginning of period Granted Expired Extended Exercised (1) Outstanding and exercisable, end of period\\n19 069 500 26 930 000 (1 430 000)\\n$ 0,610 0,328 0,500 0,500 0,390\\nAs of June 30, 2021 and December 31, 2020, the number of outstanding warrants which could be exercised for an equivalent number of common shares is as follows:\\n(1) As at December 31, 2020, 120,000 warrants had been exercised but the shares had not been issued. At December 31, 2020 the value of those shares to be issued, amounting to $107,611, were classified as equity to be issued. These shares were issued in February 2021.\\nExpiration date February 2021 April 2021 April 2021 July 2021 September 2021 October 2021 October 2021 December 2021 January 2022 February 2022 June 2022 June 2022 June 2022 June 2022 July 2022 August 2022 October 2022 October 2022 November 2022 May 2023 May 2023\\n   20 000 10 000  250 000 5 190 000  720 000     1 565 000 4 032 380 2 300 000 500 000 500 000\\n0,500 0,500 0,500 0,800 0,400 0,400 0,750 0,800 0,800 1,000 0,500 0,570 0,610 1,200 0,250 0,250 0,400 0,750 0,750 0,500 1,000\\n370 000 100 000 610 000 100 000 250 000 6 600 000 300 000 720 000 386 667 580 000 333 333 1 400 000 2 390 000 10 334 000 2 300 000 500 000 1 000 000\\n0,50 0,50 0,50 0,80 0,40 0,40 0,75 0,80 0,80 1,00 0,50 0,57 0,61 1,20 0,25 0,25 0,40 0,75 0,75 0,50 1,00\\nNotes to Condensed Interim Consolidated Financial Statements\\nFor the six-month periods ended June 30, 2021 and 2020\\nThe Company has adopted an incentive stock option plan which provides that the Board of Directors of the Company may, from time to time, at its discretion and in accordance with the stock exchange regulations, grant to directors, officers, employees and others providing similar services to the Company, non-transferable options to purchase common shares, provided that the number of common shares reserved for issuance will not exceed 10% of the issued and outstanding common shares exercisable for a period of up to 5 years from the date of grant. The options reserved for issuance to any individual director, officer or employee will not exceed 5% of the issued and outstanding common shares and the number of common shares reserved for issuance to others providing services will not exceed 2% of the issued and outstanding common shares. Options may be exercised as of the grant date for a period determined by the Board, but shall not be greater than 5 years from the date of the grant and 90 days following cessation of the optionee\\'s position with the Company. Provided that the cessation of office, directorships or employment or other similar service arrangement was by reason of death (in the case of an individual), the option may be exercised within a maximum period of one year after such death, subject to the expiry date of such option.\\nThe outstanding options as at June 30, 2021 and December 31, 2020 and the respective changes during the six-month periods then ended, are summarized as follows:\\nOutstanding, beginning of period Granted Expired Forfeited Exercised Outstanding end of period\\n$ 0,680 0,623 0,500 0,500 0,500 0,668\\nThe table below summarizes the information related to outstanding share options as at June 30, 2021.\\nJuly 8, 2021 June 1, 2022 November 27, 2022 December 15, 2022 April 16, 2023 June 5, 2023 November 28, 2023 May 1, 2024 May 27, 2024 September 5, 2024 November 1, 2024 November 12, 2024 June 11, 2025 August 7, 2025 October 28, 2025 November 6, 2025 January 28, 2026 March 22, 2026 May 13, 2026\\n$ 0,850 1,050 0,550 0,800 0,500 0,500 0,500 0,500 0,500 0,500 0,550\\n0,500 0,500 0,225 0,750 1,350 2,850 2,750 2,400\\n1 050 000 780 000 37 500 342 500 10 000 577 500 75 000 100 000 895 000 20 000 100 000 10 000\\n2 450 000 100 000 50 000 110 000 20 000\\nWeighted average remaining contractual life (years)\\n0 month 11 months 1 years and 4 months 1 years and 5 months 1 years and 9 months 1 years and 11 months 2 years and 4 months 2 years and 10 months 2 years and 10 months 3 years and 2 months 3 years and 4 months 3 years and 4 months 3 years and 11 months 4 years and 1 month 4 years and 3 months 4 years and 4 months 4 years and 6 months 4 years and 8 months 4 years and 10 months\\nNotes to Condensed Interim Consolidated Financial Statements\\nFor the six-month periods ended June 30, 2021 and 2020\\n13 - SHARE-BASED PAYMENTS (CONTINUED)\\nThe table below summarizes the information related to outstanding share options as at December 31, 2020.\\nMay 25, 2021 July 8, 2021 June 1, 2022 November 27, 2022 December 15, 2022 April 16, 2023 June 5, 2020 November 28, 2023 May 27, 2024 September 5, 2024 November 1, 2024 November 12, 2024 June 11, 2025 August 7, 2025 October 28, 2025 6 novembre 2025\\n$ 0,500 0,850 1,050 0,550 0,800 0,500 0,500 0,500 0,500 0,500 0,550\\nWeighted average remaining contractual life (years)\\n5 months 7 months 1 years and 6 months 1 year and 11 months\\n2 years 2 years and 4 months 2 years and 6 months 2 years and 11 months 3 years and 5 months 3 years and 9 months 3 years and 11 months 3 years and 11 months 4 years and 6 months 4 years and 8 months 4 years and 10 months 4 years and 11 months\\nDuring the three and six-month periods ended June 30, 2021 the Company recorded an expense of $396,515 and $741,205 respectively related to share-based payments (periods ended June 30, 2020 - $78,290 and $147,492). The offset was credited to contributed surplus.\\nShare-based payments granted to directors and employees during the six-month period ended June 30, 2021\\nDuring the three-month period ended March 31, 2021 the Company granted options to acquire 50,000 common shares of the\\nCompany at an average exercise price of $2.85 to a director.\\nThe options vest over a two-year period and are exercisable over a period of five years .\\nThe fair value of the options granted, amounting to $103,780, was calculated using the Black & Scholes option pricing model using the following assumptions:\\nShare price at the date of grant Expected life Risk-free interest rate Volatility (1) Dividend Exercise price at the date of grant\\nThe volatility was determined by using the Company\\'s own historical volatility over a period corresponding to expected life of the share options.\\nNotes to Condensed Interim Consolidated Financial Statements\\nFor the six-month periods ended June 30, 2021 and 2020\\n13 - SHARE-BASED PAYMENTS (CONTINUED)\\nOn May 13, 2021, the Company granted 20,000 options to new employees at an exercise price of $2.40 per share. The options\\nare vesting over a twenty-four-month period following the date of granting and will be exercisable over a period of five years\\nThe options vest over a period of eight, sixteen and twenty-four months and are exercisable over a period of five years .\\nThe fair value of the options granted, amounting to $33,764, was calculated using the Black & Scholes option pricing model using the following assumptions:\\nShare price at the date of grant Expected life Risk-free interest rate Volatility (1) Dividend Exercise price at the date of grant\\nThe volatility was determined by using the Company\\'s own historical volatility over a period corresponding to expected life of the share options.\\nOptions granted to consultants during the six-month period ended June 30, 2021\\na) During the six-month period ended June 30, 2021 the Company granted options to acquire 110,000 common shares of the Company at an average exercise price of $2.75 to one of its service providers as part of an investors relations agreement.\\nThe options vest over a period of nine months and are exercisable over a period of five years .\\nThe fair value of the options granted, amounting to $235,434, was calculated using the Black & Scholes option pricing model using the following assumptions:\\nShare price at the date of grant Expected life Risk-free interest rate Volatility (1) Dividend Exercise price at the date of grant\\nThe volatility was determined by using the Company\\'s own historical volatility over a period corresponding to expected life of the share options.\\nPEAK FINTECH GROUP INC. Notes to Condensed Interim Consolidated Financial Statements\\nFor the six-month periods ended June 30, 2021 and 2020\\n(In Canadian dollars) (Unaudited)\\n14 - CAPITAL MANAGEMENT POLICIES AND PROCEDURES\\nThe Company\\'s capital management objectives are as follows:\\nTo ensure the Company\\'s ability to continue its development;\\nTo provide an adequate return to shareholders.\\nThe Company monitors capital on the basis of the carrying amount of equity which represents $39,087,890 ($32,614,250 as at December 31, 2020).\\nThe Company manages its capital structure and makes adjustments to it to ensure it has sufficient liquidity and raises capital through stock markets to continue its development.\\nThe Company is not subject to any externally imposed capital requirements.\\nClassification of financial instruments\\nAs at June 30,2021 and December 31, 2020, the carrying amount of financial assets and financial liabilities were as follows:\\nFinancial assets Financial assets measured at amortized cost Cash Restricted Cash Debtors Loans receivable Deposits for investments\\nAssets and liabilities carried at fair value\\nAssets and liabilities carried at\\nFinancial liabilities Financial liabilities measured at amortized cost Accounts payable and accrued liabilities Bonds CEBA Loan\\nPEAK FINTECH GROUP INC. Notes to Condensed Interim Consolidated Financial Statements\\nFor the six-month periods ended June 30, 2021 and 2020\\n(In Canadian dollars) (Unaudited)\\n15 - FINANCIAL INSTRUMENTS (CONTINUED)\\nFinancial assets Financial assets measured at amortized cost Cash Restricted Cash Debtors Loans receivable Deposits for investments\\nAssets and liabilities carried at fair value\\nAssets and liabilities carried at\\nFinancial liabilities Financial liabilities measured at amortized cost Accounts payable and accrued liabilities Debentures Bonds CEBA Loan Financial liabilities carried at fair value Conversion option\\nFinancial risk management objectives and policies\\nThe Company is exposed to various risks in relation to financial instruments. The main risks the Company is exposed to are credit risk (see note 5), market risk and liquidity risk.\\nThe Company does not actively engage in the trading of financial instruments for speculative purposes.\\nNo changes were made in the objectives, policies and processes related to financial instrument risk management during the reporting periods.\\nThe most significant financial risks to which the Company is exposed are described below.\\nPEAK FINTECH GROUP INC. Notes to Condensed Interim Consolidated Financial Statements\\nFor the six-month periods ended June 30, 2021 and 2020\\n(In Canadian dollars) (Unaudited)\\n15 - FINANCIAL INSTRUMENTS (CONTINUED)\\nLiquidity risk is the risk that an entity will encounter difficulty in meeting obligations associated with financial liabilities that are settled by delivering cash or another financial asset.\\nLiquidity risk management serves to maintain a sufficient amount of cash and to ensure that the Company has financing sources for a sufficient amount. The Company\\'s objective is to maintain a cash position sufficient to cover the next twelve-month obligations (notes 2 ).\\nThe Company\\'s non-derivative financial liabilities have contractual maturities (including interest payments where applicable) as summarized below:\\nAccounts payable and accrued liabilities Bonds CEBA loan\\nAccounts payable and accrued liabilities Debentures Bonds CEBA loan\\nThe breakdown in Finance costs during the six-month period ended June 30, 2021 and 2020 is as follows:\\nInterest on debentures Interest on lease liabilities (note 10) Interest on security deposit and advances Interest on bonds Interest income Accretion on debentures and bonds Total interest expense Miscellaneous\\n 7 535 25 926 10 000 (1 449) 6 630 48 641 2 294 50 935\\n333 13 970 54 158 20 000 (10 606) 13 554 91 410\\n141 375 16 906 91 453 3 507 (14 246)\\nPEAK FINTECH GROUP INC. Notes to Condensed Interim Consolidated Financial Statements\\nFor the six-month periods ended June 30, 2021 and 2020\\n(In Canadian dollars) (Unaudited)\\n15 - FINANCIAL INSTRUMENTS (CONTINUED)\\nThe following methods and assumptions were used to determine the estimated fair value for each class of financial instruments:\\nThe fair value of cash, loans receivables and debtors (except sales tax receivables) ,\\naccounts payable and accrued liabilities approximate their carrying\\namount, given the short-term maturity;\\nThe fair value of the debentures is estimated using a discounted cash flow approach and\\napproximate their carrying amount.\\nThe fair value of contingent compensation payable related to the acquisition of\\ncertain assets and personnel from Wuxi Wenyi Financial Services Co. (note 4)\\nis estimated by probability-weighted cash outflows and reflect management\\'s estimate\\nof a 80% probability that the contract\\'s target level will be achieved and the expected\\nThe Company categorized its financial instruments based on the following three levels of inputs used for fair value measurements:\\nQuoted prices (unadjusted) in active markets for identical assets and liabilities; Inputs other than quoted prices included in Level 1 that are observable for the assets and liability, either directly (i.e. as prices) or indirectly (i.e. derived from prices); Inputs for the asset or liability that are not based on observable market data (unobservable inputs).\\nDebentures are level 2 under the fair value hierarchy.\\nContingent compensation payable and the option conversion are level 3 under the fair value hierarchy.\\n16 - RELATED PARTY TRANSACTIONS\\nThe Company\\'s related party transactions do not include, unless otherwise stated, special terms and conditions. No guarantees were given or received. Outstanding balances are usually settled in cash.\\nTransactions with key management personnel, officers and directors\\nThe Company\\'s key management personnel are, the CEO, the CFO, the Chinese operations CEO, and the members of the Board. Their remuneration includes the following expenses:\\nSalaries, bonus and fringe benefits Share-based payments Royalty- Cubeler Management fees paid to a company held\\nby a director Interest on debentures Total\\nPEAK FINTECH GROUP INC. Notes to Condensed Interim Consolidated Financial Statements\\nFor the six-month periods ended June 30, 2021 and 2020\\n(In Canadian dollars) (Unaudited)\\n16 - RELATED PARTY TRANSACTIONS (CONTINUED)\\nThese transactions occurred in the normal course of operations and have been measured at fair value.\\nAs at June 30, 2021, and December 31, 2020 the condensed interim consolidated statement of financial position includes the following amounts with related parties:\\nAdvance from a director to a subsidiary, no interest Subscriptions to be received Payable to an affiliated company\\nThe Company\\'s related party transactions do not include, unless otherwise stated, special terms and conditions. No guarantees were given or received. Outstanding balances are usually settled in cash.\\nThe Company has determined that there were two operating segments, which are defined below. For presentation purposes, other activities are grouped in the \\'Other\\' heading. Each operating segment is distinguished by the type of products and services it offers and is managed separately as each requires different business processes, marketing approaches and resources. All inter-segment transfers are carried out at arm\\'s length prices based on prices charged to unrelated customers in stand-alone sales of identical goods and services.\\nThe operating segments are detailed as follows:\\nThe Fintech Platform segment comprises the procurement and distribution of products within supply chain or facilitating transactions in the commercial lending industry through technology platforms.\\n17 - SEGMENT REPORTING (CONTINUED)\\nThe Financial Services segment encompasses providing commercial loans to entrepreneurs and SMEs and the activity of providing turn-key credit outsourcing services to banks and other lending institutions.\\nBoth operating segments are geographically located in China.\\nPEAK FINTECH GROUP INC. Notes to Condensed Interim Consolidated Financial Statements\\nFor the six-month periods ended June 30, 2021 and 2020\\n(In Canadian dollars) (Unaudited)\\n17 - SEGMENT REPORTING (CONTINUED)\\nThe \"other\" category includes the activity and unallocated portion of the Canadian parent company\\'s services and all non-operating holdings registered in Hong Kong and China.\\nThe segment information for the six-month periods ended June 30, 2021, and 2020 are as follows:\\nRevenues (1) Financial service revenue Fees/sales from\\nexternal customers Supply chain services Inter-segment Total revenues Expenses Depreciation and amortization Interest expense All other expenses\\nTotal expenses Profit (loss) before tax Income tax Net profit (loss) Non-controlling interest Net profit (loss) attributable to owners of the parent\\n10 840 35 953 2 425 027 2 471 820\\nPEAK FINTECH GROUP INC. Notes to Condensed Interim Consolidated Financial Statements\\nFor the six-month periods ended June 30, 2021 and 2020\\n(In Canadian dollars) (Unaudited)\\n17 - SEGMENT REPORTING (CONTINUED) Other (continued)\\nRevenues (1) Financial service revenue Fees/sales from\\nexternal customers Supply chain services Inter-segment Total revenues Expenses Depreciation and\\namortization Interest expenses Impairment of\\nintangible asset Loss on extinction\\nof debt Gain on bargain purchase Loss on fair value variation All other expenses Total expenses Profit (loss) before\\ntax Income tax (recovery) Net profit (loss) Non-controlling\\ninterest Net profit (loss) attributable to owners of the parent\\n(1): Revenues from external customers have been identified on the basis of the customer\\'s geographical location, which is China.\\nThe Company\\'s non-current assets (other than financial instruments) are located in the following geographic regions:\\n$ 8 082 615 1 072 500 9 155 115\\n$ 6 548 695 1 144 000 7 692 695\\nPEAK FINTECH GROUP INC. Notes to Condensed Interim Consolidated Financial Statements\\nFor the six-month periods ended June 30, 2021 and 2020\\n(In Canadian dollars) (Unaudited)\\n18 - NON-CONTROLLING INTERESTS The Company controls two subsidiaries that have significant non-controlling interests (NCIs).\\nAsia Synergy Supply Chain Ltd (\"ASSC\") Asia Synergy Financial Capital Ltd (\"ASFC\")\\n% ownership and voting rights held the by NCIs\\n% ownership and voting rights held the by NCIs\\nTotal comprehensive income allocated to NCI\\nAsia Synergy Supply Chain Ltd Asia Synergy Financial Capital Ltd\\n1 799 149 10 585 967 12 385 116\\n1 334 581 10 435 939 11 770 520\\nNo dividends were paid to NCIs during the six-month period ended June 30, 2021 and the year ended December 31, 2020 .\\nSummarised financial information for ASSC and ASFC before intragroup eliminations are as follows:\\nCurrent assets Non-current assets Total assets\\nCurrent liabilities Non-current liabilities Total liabilities\\nEquity attributable to owners of the parent\\nPEAK FINTECH GROUP INC. Notes to Condensed Interim Consolidated Financial Statements\\nFor the six-month periods ended June 30, 2021 and 2020\\n(In Canadian dollars) (Unaudited)\\n18 - NON-CONTROLLING INTERESTS (CONTINUED)\\nASSC Six-month period ending 2021-06-30\\nProfit for the year attributable to owners of the parent Profit for the year attributable to NCIs Profit for the year\\nASFC Six-month period ending 2021-06-30\\nOther comprehensive income (\"OCI\") for the year OCI attributable to the owners of the parent OCI attributable to NCIs OCI for the year\\nTotal comprehensive income for the year attributable to the owners of the parent Total comprehensive income for the year attributable to NCIs\\nTotal comprehensive income for the year\\nNet cash used in operating activities Net cash used in investing activities Net cash from financing activities Foreign exchange differences Net cash (outflow) inflow for the year\\n(1 284 050) 466 250 743 189 4 693 (69 918)\\nCertain comparative figures have been reclassified in order to comply with the basis of presentation adopted in the current year.\\nOn July 7, 2021, the Company closed a short-form prospectus financing for gross proceeds of $52,600,000 (net proceeds\\nof $48,918,000 before related expenses). The Company issued 26,300,000 shares at a price of $2.00 and 13,149,999\\nwarrants at an exercise price of $3.50 for a period of twenty-four months. Also, 1,841,000 broker warrants at an exercise\\nprice of $3.50 good for a period of twenty-four months were issued to agents.\\nOn July 7, 2021, the Company granted incentive options to acquire 1,650,000 common shares to certain directors,\\nofficers and key employees. The stock options expire in July 2026, vest over two years and have an exercise price of\\nEffective July 27, 2021, the Company consolidated its issued and outstanding common shares on the basis of one (1)\\npost-consolidation common share for each two (2) pre-consolidated common share\\nOn August 16,2021, the Company announces that it had signed an agreement to acquire 100% of the outstanding shares\\nof Cubeler Inc, a related-party private company, for $1,000,000 in cash and 11,133,326 common shares of the Company.\\nThe acquisition is expected to close on or prior to September 30, 2021', 'meta': {'name': 'Continuous_Disclosure_2021-08-26.pdf'}}]\n"
          ]
        }
      ],
      "metadata": {
        "pycharm": {
          "name": "#%%\n"
        },
        "id": "ZyfMFk0LLLbK",
        "colab": {
          "base_uri": "https://localhost:8080/"
        },
        "outputId": "99a2afb2-8bb2-4214-dd33-3b5b4d4e65a5"
      }
    },
    {
      "cell_type": "markdown",
      "source": [
        "## Initalize Retriever, Reader,  & Pipeline\n",
        "\n",
        "### Retriever\n",
        "\n",
        "Retrievers help narrowing down the scope for the Reader to smaller units of text where a given question could be answered.\n",
        "They use some simple but fast algorithm.\n",
        "\n",
        "**Here:** We use Elasticsearch's default BM25 algorithm\n",
        "\n",
        "**Alternatives:**\n",
        "\n",
        "- Customize the `ElasticsearchRetriever`with custom queries (e.g. boosting) and filters\n",
        "- Use `TfidfRetriever` in combination with a SQL or InMemory Document store for simple prototyping and debugging\n",
        "- Use `EmbeddingRetriever` to find candidate documents based on the similarity of embeddings (e.g. created via Sentence-BERT)\n",
        "- Use `DensePassageRetriever` to use different embedding models for passage and query (see Tutorial 6)"
      ],
      "metadata": {
        "id": "_8OE27MjLLbL"
      }
    },
    {
      "cell_type": "code",
      "execution_count": null,
      "source": [
        "from haystack.nodes import ElasticsearchRetriever\n",
        "retriever = ElasticsearchRetriever(document_store=document_store)"
      ],
      "outputs": [],
      "metadata": {
        "id": "X88eAdaKLLbL"
      }
    },
    {
      "cell_type": "code",
      "execution_count": null,
      "source": [
        "# Alternative: An in-memory TfidfRetriever based on Pandas dataframes for building quick-prototypes with SQLite document store.\n",
        "\n",
        "# from haystack.nodes import TfidfRetriever\n",
        "# retriever = TfidfRetriever(document_store=document_store)"
      ],
      "outputs": [],
      "metadata": {
        "pycharm": {
          "is_executing": false,
          "name": "#%%\n"
        },
        "id": "GMMWOQ7qLLbL"
      }
    },
    {
      "cell_type": "markdown",
      "source": [
        "### Reader\n",
        "\n",
        "A Reader scans the texts returned by retrievers in detail and extracts the k best answers. They are based\n",
        "on powerful, but slower deep learning models.\n",
        "\n",
        "Haystack currently supports Readers based on the frameworks FARM and Transformers.\n",
        "With both you can either load a local model or one from Hugging Face's model hub (https://huggingface.co/models).\n",
        "\n",
        "**Here:** a medium sized RoBERTa QA model using a Reader based on FARM (https://huggingface.co/deepset/roberta-base-squad2)\n",
        "\n",
        "**Alternatives (Reader):** TransformersReader (leveraging the `pipeline` of the Transformers package)\n",
        "\n",
        "**Alternatives (Models):** e.g. \"distilbert-base-uncased-distilled-squad\" (fast) or \"deepset/bert-large-uncased-whole-word-masking-squad2\" (good accuracy)\n",
        "\n",
        "**Hint:** You can adjust the model to return \"no answer possible\" with the no_ans_boost. Higher values mean the model prefers \"no answer possible\"\n",
        "\n",
        "#### FARMReader"
      ],
      "metadata": {
        "id": "xB01hCEuLLbM"
      }
    },
    {
      "cell_type": "code",
      "execution_count": null,
      "source": [
        "# Load a  local model or any of the QA models on\n",
        "# Hugging Face's model hub (https://huggingface.co/models)\n",
        "\n",
        "reader = FARMReader(model_name_or_path=\"deepset/roberta-base-squad2\", use_gpu=True)"
      ],
      "outputs": [
        {
          "output_type": "stream",
          "name": "stderr",
          "text": [
            "INFO - haystack.modeling.utils -  Using devices: CUDA\n",
            "INFO - haystack.modeling.utils -  Number of GPUs: 1\n",
            "INFO - haystack.modeling.model.language_model -  LOADING MODEL\n",
            "INFO - haystack.modeling.model.language_model -  =============\n",
            "INFO - haystack.modeling.model.language_model -  Could not find deepset/roberta-base-squad2 locally.\n",
            "INFO - haystack.modeling.model.language_model -  Looking on Transformers Model Hub (in local cache and online)...\n",
            "INFO - haystack.modeling.model.language_model -  Loaded deepset/roberta-base-squad2\n",
            "INFO - haystack.modeling.logger -  ML Logging is turned off. No parameters, metrics or artifacts will be logged to MLFlow.\n",
            "INFO - haystack.modeling.utils -  Using devices: CUDA\n",
            "INFO - haystack.modeling.utils -  Number of GPUs: 1\n",
            "INFO - haystack.modeling.infer -  Got ya 2 parallel workers to do inference ...\n",
            "INFO - haystack.modeling.infer -   0    0 \n",
            "INFO - haystack.modeling.infer -  /w\\  /w\\\n",
            "INFO - haystack.modeling.infer -  /'\\  / \\\n"
          ]
        }
      ],
      "metadata": {
        "pycharm": {
          "is_executing": false
        },
        "id": "jFEEI-U0LLbM",
        "colab": {
          "base_uri": "https://localhost:8080/"
        },
        "outputId": "5fa5dc1c-ad93-46ab-c8c5-2508757ad835"
      }
    },
    {
      "cell_type": "markdown",
      "source": [
        "#### TransformersReader"
      ],
      "metadata": {
        "id": "8WH8n5JALLbM"
      }
    },
    {
      "cell_type": "code",
      "execution_count": null,
      "source": [
        "# Alternative:\n",
        "# reader = TransformersReader(model_name_or_path=\"distilbert-base-uncased-distilled-squad\", tokenizer=\"distilbert-base-uncased\", use_gpu=-1)"
      ],
      "outputs": [],
      "metadata": {
        "id": "vJuvb1ymLLbM"
      }
    },
    {
      "cell_type": "markdown",
      "source": [
        "### Pipeline\n",
        "\n",
        "With a Haystack `Pipeline` you can stick together your building blocks to a search pipeline.\n",
        "Under the hood, `Pipelines` are Directed Acyclic Graphs (DAGs) that you can easily customize for your own use cases.\n",
        "To speed things up, Haystack also comes with a few predefined Pipelines. One of them is the `ExtractiveQAPipeline` that combines a retriever and a reader to answer our questions.\n",
        "You can learn more about `Pipelines` in the [docs](https://haystack.deepset.ai/docs/latest/pipelinesmd)."
      ],
      "metadata": {
        "id": "Y-fT2B0tLLbN"
      }
    },
    {
      "cell_type": "code",
      "execution_count": null,
      "source": [
        "from haystack.pipelines import ExtractiveQAPipeline\n",
        "pipe = ExtractiveQAPipeline(reader, retriever)"
      ],
      "outputs": [],
      "metadata": {
        "pycharm": {
          "is_executing": false
        },
        "id": "w_AypydMLLbN"
      }
    },
    {
      "cell_type": "markdown",
      "source": [
        "## Voilà! Ask a question!"
      ],
      "metadata": {
        "id": "fQNJM5pOLLbN"
      }
    },
    {
      "cell_type": "code",
      "execution_count": null,
      "source": [
        "# You can configure how many candidates the reader and retriever shall return\n",
        "# The higher top_k_retriever, the better (but also the slower) your answers. \n",
        "from pprint import pprint\n",
        "\n",
        "questions = [\n",
        "             \"What is QNX\",\n",
        "             \"What are the future revenue guidance\",\n",
        "             \"When is the patent sale expected to be finalized\",\n",
        "             \"What is the future of Cylance\",\n",
        "             \"What is the projected growth of cybersecurity\",\n",
        "             \"How much money will be made with blackberry ivy\"\n",
        "]\n",
        "\n",
        "for question in questions:\n",
        "  prediction = pipe.run(\n",
        "      query=question, params={\"Retriever\": {\"top_k\": 10}, \"Reader\": {\"top_k\": 5}}\n",
        "  )\n",
        "  pprint(prediction)\n",
        "\n",
        "  print_answers(prediction, details=\"minimum\")"
      ],
      "outputs": [
        {
          "output_type": "stream",
          "name": "stderr",
          "text": [
            "Inferencing Samples:   0%|          | 0/1 [00:00<?, ? Batches/s]/usr/local/lib/python3.7/dist-packages/haystack/modeling/model/prediction_head.py:462: UserWarning: __floordiv__ is deprecated, and its behavior will change in a future version of pytorch. It currently rounds toward 0 (like the 'trunc' function NOT 'floor'). This results in incorrect rounding for negative values. To keep the current behavior, use torch.div(a, b, rounding_mode='trunc'), or for actual floor division, use torch.div(a, b, rounding_mode='floor').\n",
            "  start_indices = flat_sorted_indices // max_seq_len\n",
            "Inferencing Samples: 100%|██████████| 1/1 [00:00<00:00,  3.16 Batches/s]\n",
            "Inferencing Samples: 100%|██████████| 1/1 [00:00<00:00,  6.12 Batches/s]\n",
            "Inferencing Samples: 100%|██████████| 1/1 [00:00<00:00, 15.70 Batches/s]\n",
            "Inferencing Samples: 100%|██████████| 1/1 [00:00<00:00,  8.42 Batches/s]\n",
            "Inferencing Samples: 100%|██████████| 1/1 [00:00<00:00, 10.46 Batches/s]\n",
            "Inferencing Samples: 100%|██████████| 1/1 [00:00<00:00, 10.98 Batches/s]\n",
            "Inferencing Samples: 100%|██████████| 1/1 [00:00<00:00, 15.76 Batches/s]\n",
            "Inferencing Samples: 100%|██████████| 1/1 [00:00<00:00,  3.93 Batches/s]\n",
            "Inferencing Samples: 100%|██████████| 1/1 [00:00<00:00, 19.85 Batches/s]\n",
            "Inferencing Samples: 100%|██████████| 1/1 [00:00<00:00, 20.67 Batches/s]\n"
          ]
        }
      ],
      "metadata": {
        "pycharm": {
          "is_executing": false
        },
        "id": "yvmpQ2o9LLbN",
        "colab": {
          "base_uri": "https://localhost:8080/"
        },
        "outputId": "c9d53223-4725-4d10-947b-82b486bf5eaf"
      }
    },
    {
      "cell_type": "code",
      "execution_count": null,
      "source": [
        "# prediction = pipe.run(query=\"Who created the Dothraki vocabulary?\", params={\"Reader\": {\"top_k\": 5}})\n",
        "# prediction = pipe.run(query=\"Who is the sister of Sansa?\", params={\"Reader\": {\"top_k\": 5}})"
      ],
      "outputs": [],
      "metadata": {
        "id": "AIjixXE4LLbO"
      }
    },
    {
      "cell_type": "code",
      "execution_count": null,
      "source": [
        "# Now you can either print the object directly...\n",
        "\n",
        "# Sample output:    \n",
        "# {\n",
        "#     'answers': [ <Answer: answer='Eddard', type='extractive', score=0.9919578731060028, offsets_in_document=[{'start': 608, 'end': 615}], offsets_in_context=[{'start': 72, 'end': 79}], document_id='cc75f739897ecbf8c14657b13dda890e', meta={'name': '454_Music_of_Game_of_Thrones.txt'}}, context='...' >,\n",
        "#                  <Answer: answer='Ned', type='extractive', score=0.9767240881919861, offsets_in_document=[{'start': 3687, 'end': 3801}], offsets_in_context=[{'start': 18, 'end': 132}], document_id='9acf17ec9083c4022f69eb4a37187080', meta={'name': '454_Music_of_Game_of_Thrones.txt'}}, context='...' >,\n",
        "#                  ...\n",
        "#                ]\n",
        "#     'documents': [ <Document: content_type='text', score=0.8034909798951382, meta={'name': '332_Sansa_Stark.txt'}, embedding=None, id=d1f36ec7170e4c46cde65787fe125dfe', content='\\n===\\'\\'A Game of Thrones\\'\\'===\\nSansa Stark begins the novel by being betrothed to Crown ...'>,\n",
        "#                    <Document: content_type='text', score=0.8002150354529785, meta={'name': '191_Gendry.txt'}, embedding=None, id='dd4e070a22896afa81748d6510006d2', 'content='\\n===Season 2===\\nGendry travels North with Yoren and other Night's Watch recruits, including Arya ...'>,\n",
        "#                    ...\n",
        "#                  ],\n",
        "#     'no_ans_gap':  11.688868522644043,\n",
        "#     'node_id': 'Reader',\n",
        "#     'params': {'Reader': {'top_k': 5}, 'Retriever': {'top_k': 5}},\n",
        "#     'query': 'Who is the father of Arya Stark?',\n",
        "#     'root_node': 'Query'\n",
        "# }\n"
      ],
      "outputs": [
        {
          "output_type": "stream",
          "name": "stdout",
          "text": [
            "{'answers': [<Answer {'answer': '$42.7M', 'type': 'extractive', 'score': 0.364032618701458, 'context': 'ofit margin of 25% by 2023.\"\\nUpdated Financial Guidance Summary\\nRevenue $42.7M $109.0M $345.0M $814.0M\\nEBITDA** ($2.78M) $11.3M $81.8M $295.7M\\nNet Inc', 'offsets_in_document': [{'start': 1808, 'end': 1814}], 'offsets_in_context': [{'start': 72, 'end': 78}], 'document_id': '8b0e1a6fe5187dac29e1765967e5f56b', 'meta': {'name': 'Continuous_Disclosure_2021-10-22.pdf'}}>,\n",
            "             <Answer {'answer': 'Revenues from external customers', 'type': 'extractive', 'score': 0.302394762635231, 'context': \"(1): Revenues from external customers have been identified on the basis of the customer's geographical location, which is China.\", 'offsets_in_document': [{'start': 5, 'end': 37}], 'offsets_in_context': [{'start': 5, 'end': 37}], 'document_id': 'e507207657f750b8bbcf1355d98a2dd7', 'meta': {'name': 'Continuous_Disclosure_2021-08-26.pdf'}}>,\n",
            "             <Answer {'answer': 'Financial service revenue Fees/sales from\\nexternal customers Supply chain services Inter-segment', 'type': 'extractive', 'score': 0.17734535038471222, 'context': 'Revenues (1) Financial service revenue Fees/sales from\\nexternal customers Supply chain services Inter-segment Total revenues Expenses Depreciation and', 'offsets_in_document': [{'start': 13, 'end': 109}], 'offsets_in_context': [{'start': 13, 'end': 109}], 'document_id': '64e914d951563023b4042a6c6f48babe', 'meta': {'name': 'Continuous_Disclosure_2021-08-26.pdf'}}>,\n",
            "             <Answer {'answer': 'Financial service revenue', 'type': 'extractive', 'score': 0.16296101361513138, 'context': 'Revenues (1) Financial service revenue Fees/sales from\\nexternal customers Supply chain services Inter-segment Total revenues Expenses Depreciation and', 'offsets_in_document': [{'start': 13, 'end': 38}], 'offsets_in_context': [{'start': 13, 'end': 38}], 'document_id': '9cb42585fe898cf21f9adddfc9527f5b', 'meta': {'name': 'Continuous_Disclosure_2021-08-26.pdf'}}>,\n",
            "             <Answer {'answer': 'OPINIONS OF GRIZZLY RESEARCH', 'type': 'extractive', 'score': 0.08488575741648674, 'context': '\"THIS REPORT AND ALL STATEMENTS CONTAINED HEREIN ARE THE OPINIONS OF GRIZZLY RESEARCH, AND ARE NOT STATEMENTS OF FACT.\"', 'offsets_in_document': [{'start': 57, 'end': 85}], 'offsets_in_context': [{'start': 57, 'end': 85}], 'document_id': '49c906055c33f436c4aee7bc48f1673f', 'meta': {'name': 'Continuous_Disclosure_2021-10-04.pdf'}}>],\n",
            " 'documents': [<Document: {'content': 'Revenues', 'content_type': 'text', 'score': 0.765353757294707, 'meta': {'name': 'Continuous_Disclosure_2021-08-26.pdf'}, 'embedding': None, 'id': '8b2617da7983eb1c00bd1630b7086eff'}>,\n",
            "               <Document: {'content': 'Revenues (1) Financial service revenue Fees/sales from\\nexternal customers Supply chain services Inter-segment Total revenues Expenses Depreciation and amortization Interest expense All other expenses\\nTotal expenses Profit (loss) before tax Income tax Net profit (loss) Non-controlling interest Net profit (loss) attributable to owners of the parent', 'content_type': 'text', 'score': 0.7341146959680244, 'meta': {'name': 'Continuous_Disclosure_2021-08-26.pdf'}, 'embedding': None, 'id': '64e914d951563023b4042a6c6f48babe'}>,\n",
            "               <Document: {'content': \"(1): Revenues from external customers have been identified on the basis of the customer's geographical location, which is China.\", 'content_type': 'text', 'score': 0.7253083043872799, 'meta': {'name': 'Continuous_Disclosure_2021-08-26.pdf'}, 'embedding': None, 'id': 'e507207657f750b8bbcf1355d98a2dd7'}>,\n",
            "               <Document: {'content': 'Revenues (1) Financial service revenue Fees/sales from\\nexternal customers Supply chain services Inter-segment Total revenues Expenses Depreciation and\\namortization Interest expenses Impairment of\\nintangible asset Loss on extinction\\nof debt Gain on bargain purchase Loss on fair value variation All other expenses Total expenses Profit (loss) before\\ntax Income tax (recovery) Net profit (loss) Non-controlling\\ninterest Net profit (loss) attributable to owners of the parent\\nSegmented assets', 'content_type': 'text', 'score': 0.7150504520191889, 'meta': {'name': 'Continuous_Disclosure_2021-08-26.pdf'}, 'embedding': None, 'id': '9cb42585fe898cf21f9adddfc9527f5b'}>,\n",
            "               <Document: {'content': 'Peak invested 2.5M RMB (about CAD$500,000) for less than a 1% stake in Rongbang, yet the Company views the investment as a strategic marketing and business development investment rather than what would be considered a traditional minority investment in a private company. \"We could have spent over a million dollars on marketing and promotional initiatives and not received a fraction of the return we\\'ll be securing on this investment,\" commented Peak CEO Johnson Joseph. \"We are honored to now be part of a very exclusive group of shareholders led by UnionPay and China Datang (http://www.china-cdt.com/). Any association with these prestigious organizations in China is priceless\".', 'content_type': 'text', 'score': 0.6716626125946468, 'meta': {'name': 'Continuous_Disclosure_2021-07-29.pdf'}, 'embedding': None, 'id': 'b77f0622f7928769830c0d09c17b49b9'}>,\n",
            "               <Document: {'content': 'Montreal, Quebec--(Newsfile Corp. - October 22, 2021) - Peak Fintech Group Inc. (CSE: PKK) (OTC Pink: PKKFF) (\"Peak\" or the \"Company\"), an innovative Fintech service provider and manager of the Cubeler Business Hub, today updated its revenue, EBITDA and earnings guidance for the years 2021, 2022 and 2023 following the Company\\'s acquisition of analytics and AI company Cubeler Inc. (\"Cubeler\"), which will allow Peak to deploy its Business Hub concept first to North America and eventually to other markets around the world.\\n\"There are several reasons why we\\'re so excited about our recent acquisition of Cubeler,\" commented Peak CEO Johnson Joseph. \"The most obvious ones are the expected impact on our revenue and our unfettered access to markets beyond China, but what I\\'m personally most enthusiastic about is introducing the world to our consumer-focused applications leveraging the vast amount of data at our disposal and our AI capabilities. While we don\\'t expect those applications to impact our 2021 numbers as they are still being developed, we do expect them to account for more than a third of our revenue by 2023 and to eventually become the biggest source of revenue for the Company shortly thereafter. Until that happens, we have revised our revenue guidance upward by 5% for 2021, 13% for 2022 and 30% for 2023. We now expect 2021 EBITDA and net income to be slightly lower than prior guidance as we invest in the deployment of our North American operations. But those numbers should be considerably higher in 2022 and 2023 than what was previously forecasted, as we expect EBITDA to come in at 36% of sales and a net profit margin of 25% by 2023.\"\\nUpdated Financial Guidance Summary', 'content_type': 'text', 'score': 0.665461382607366, 'meta': {'name': 'Continuous_Disclosure_2021-10-22.pdf'}, 'embedding': None, 'id': '24248a1fd594f970c903793c446ed9b4'}>,\n",
            "               <Document: {'content': '\"THIS REPORT AND ALL STATEMENTS CONTAINED HEREIN ARE THE OPINIONS OF GRIZZLY RESEARCH, AND ARE NOT STATEMENTS OF FACT.\"', 'content_type': 'text', 'score': 0.6275210464695505, 'meta': {'name': 'Continuous_Disclosure_2021-10-04.pdf'}, 'embedding': None, 'id': '49c906055c33f436c4aee7bc48f1673f'}>,\n",
            "               <Document: {'content': 'Peak Fintech Updates Revenue and Earnings Guidance to Account for Planned North American Expansion\\nMontreal, Quebec--(Newsfile Corp. - October 22, 2021) - Peak Fintech Group Inc. (CSE: PKK) (OTC Pink: PKKFF) (\"Peak\" or the \"Company\"), an innovative Fintech service provider and manager of the Cubeler Business Hub, today updated its revenue, EBITDA and earnings guidance for the years 2021, 2022 and 2023 following the Company\\'s acquisition of analytics and AI company Cubeler Inc. (\"Cubeler\"), which will allow Peak to deploy its Business Hub concept first to North America and eventually to other markets around the world.\\n\"There are several reasons why we\\'re so excited about our recent acquisition of Cubeler,\" commented Peak CEO Johnson Joseph. \"The most obvious ones are the expected impact on our revenue and our unfettered access to markets beyond China, but what I\\'m personally most enthusiastic about is introducing the world to our consumer-focused applications leveraging the vast amount of data at our disposal and our AI capabilities. While we don\\'t expect those applications to impact our 2021 numbers as they are still being developed, we do expect them to account for more than a third of our revenue by 2023 and to eventually become the biggest source of revenue for the Company shortly thereafter. Until that happens, we have revised our revenue guidance upward by 5% for 2021, 13% for 2022 and 30% for 2023. We now expect 2021 EBITDA and net income to be slightly lower than prior guidance as we invest in the deployment of our North American operations. But those numbers should be considerably higher in 2022 and 2023 than what was previously forecasted, as we expect EBITDA to come in at 36% of sales and a net profit margin of 25% by 2023.\"\\nUpdated Financial Guidance Summary\\nRevenue $42.7M $109.0M $345.0M $814.0M\\nEBITDA** ($2.78M) $11.3M $81.8M $295.7M\\nNet Income (Loss) ($5.5M) $4.4M $51.4M $204.5M\\n** EBITDA isprovided asa supplementary earningsmeasure to assist readersin determining the Company\\'sability to generate cash-flowsfrom operationsand to cover finance charges. Thisisa non-GAAP measure that doesnot have a standardized meaning prescribed by IFRS and therefore may not be comparable to similar measurespresented by other companies.\\nPeak Fintech Group Inc. is the parent company of a group of innovative financial technology (Fintech) subsidiaries operating primarily in the commercial lending industry. Peak\\'s subsidiaries bring together lending financial institutions and businesses to create the Cubeler Business Hub, an ecosystem where analytics and artificial intelligence are used to facilitate transactions among members of the ecosystem. For more information: http://www.peakfintechgroup.com\\nFor more information, please contact:\\n\\x0cCathy Hume, CEO 416-868-1079 ext.: 251 cathy@chfir.com\\nMZ Group - MZ North America Mark Schwalenberg, CFA 1-312-261-6430 PEAK@mzgroup.us\\nPeak Fintech Group Barry Ellison, Director of Marketing and Communications 514-340-7775 ext.: 521 bellison@peakfintechgroup.com\\nFollow Peak Fintech Group Inc. on social media:\\nTwitter: @peakfintech Facebook: @peakfintech LinkedIn: Peak Fintech YouTube: Peak Fintech\\nForward-Looking Statements / Information:\\nThis news release may include certain forward-looking information, including statements relating to business and operating strategies, plans and prospects for revenue growth, using words including \"anticipate\", \"believe\", \"could\", \"expect\", \"intend\", \"may\", \"plan\", \"potential\", \"project\", \"seek\", \"should\", \"will\", \"would\" and similar expressions, which are intended to identify a number of these forward-looking statements. Forward-looking information reflects current views with respect to current events and is not a guarantee of future performance and is subject to risks, uncertainties and assumptions. The Company undertakes no obligation to publicly update or review any forward-looking information contained in this news release, except as may be required by applicable laws, rules and regulations. Readers are urged to consider these factors carefully in evaluating any forward-looking information.\\nTo view the source version of this press release, please visit https://www.newsfilecorp.com/release/100539', 'content_type': 'text', 'score': 0.6223224993511807, 'meta': {'name': 'Continuous_Disclosure_2021-10-22.pdf'}, 'embedding': None, 'id': '8b0e1a6fe5187dac29e1765967e5f56b'}>,\n",
            "               <Document: {'content': \"The Company has determined that there were two operating segments, which are defined below. For presentation purposes, other activities are grouped in the 'Other' heading. Each operating segment is distinguished by the type of products and services it offers and is managed separately as each requires different business processes, marketing approaches and resources. All inter-segment transfers are carried out at arm's length prices based on prices charged to unrelated customers in stand-alone sales of identical goods and services.\\nThe operating segments are detailed as follows:\", 'content_type': 'text', 'score': 0.6181328845231225, 'meta': {'name': 'Continuous_Disclosure_2021-08-26.pdf'}, 'embedding': None, 'id': 'd2dc9c4a1879c6fe81f192741602d51f'}>,\n",
            "               <Document: {'content': \"The Company's capital management objectives are as follows:\", 'content_type': 'text', 'score': 0.6166849992356397, 'meta': {'name': 'Continuous_Disclosure_2021-08-26.pdf'}, 'embedding': None, 'id': 'cc5dffa5a7ff6135647f3c8423de0d32'}>],\n",
            " 'no_ans_gap': -0.24693584442138672,\n",
            " 'node_id': 'Reader',\n",
            " 'params': {'Reader': {'top_k': 5}, 'Retriever': {'top_k': 10}},\n",
            " 'query': 'What are Q3 revenues',\n",
            " 'root_node': 'Query'}\n"
          ]
        }
      ],
      "metadata": {
        "id": "8w1CE4d9LLbO",
        "colab": {
          "base_uri": "https://localhost:8080/"
        },
        "outputId": "ab82a37d-27b1-48fa-cf7c-541a2042a537"
      }
    },
    {
      "cell_type": "code",
      "execution_count": null,
      "source": [
        "# ...or use a util to simplify the output\n",
        "# Change `minimum` to `medium` or `all` to raise the level of detail\n",
        "print_answers(prediction, details=\"minimum\")"
      ],
      "outputs": [
        {
          "output_type": "stream",
          "name": "stdout",
          "text": [
            "\n",
            "Query: What are Q3 revenues\n",
            "Answers:\n",
            "[   {   'answer': '$42.7M',\n",
            "        'context': 'ofit margin of 25% by 2023.\"\\n'\n",
            "                   'Updated Financial Guidance Summary\\n'\n",
            "                   'Revenue $42.7M $109.0M $345.0M $814.0M\\n'\n",
            "                   'EBITDA** ($2.78M) $11.3M $81.8M $295.7M\\n'\n",
            "                   'Net Inc'},\n",
            "    {   'answer': 'Revenues from external customers',\n",
            "        'context': '(1): Revenues from external customers have been identified '\n",
            "                   \"on the basis of the customer's geographical location, \"\n",
            "                   'which is China.'},\n",
            "    {   'answer': 'Financial service revenue Fees/sales from\\n'\n",
            "                  'external customers Supply chain services Inter-segment',\n",
            "        'context': 'Revenues (1) Financial service revenue Fees/sales from\\n'\n",
            "                   'external customers Supply chain services Inter-segment '\n",
            "                   'Total revenues Expenses Depreciation and'},\n",
            "    {   'answer': 'Financial service revenue',\n",
            "        'context': 'Revenues (1) Financial service revenue Fees/sales from\\n'\n",
            "                   'external customers Supply chain services Inter-segment '\n",
            "                   'Total revenues Expenses Depreciation and'},\n",
            "    {   'answer': 'OPINIONS OF GRIZZLY RESEARCH',\n",
            "        'context': '\"THIS REPORT AND ALL STATEMENTS CONTAINED HEREIN ARE THE '\n",
            "                   'OPINIONS OF GRIZZLY RESEARCH, AND ARE NOT STATEMENTS OF '\n",
            "                   'FACT.\"'}]\n"
          ]
        }
      ],
      "metadata": {
        "pycharm": {
          "is_executing": false,
          "name": "#%%\n"
        },
        "id": "R-nO7KjoLLbO",
        "colab": {
          "base_uri": "https://localhost:8080/"
        },
        "outputId": "57c29c15-6eb9-44d0-9516-96046f655d29"
      }
    },
    {
      "cell_type": "markdown",
      "source": [
        "## About us\n",
        "\n",
        "This [Haystack](https://github.com/deepset-ai/haystack/) notebook was made with love by [deepset](https://deepset.ai/) in Berlin, Germany\n",
        "\n",
        "We bring NLP to the industry via open source!  \n",
        "Our focus: Industry specific language models & large scale QA systems.  \n",
        "  \n",
        "Some of our other work: \n",
        "- [German BERT](https://deepset.ai/german-bert)\n",
        "- [GermanQuAD and GermanDPR](https://deepset.ai/germanquad)\n",
        "- [FARM](https://github.com/deepset-ai/FARM)\n",
        "\n",
        "Get in touch:\n",
        "[Twitter](https://twitter.com/deepset_ai) | [LinkedIn](https://www.linkedin.com/company/deepset-ai/) | [Slack](https://haystack.deepset.ai/community/join) | [GitHub Discussions](https://github.com/deepset-ai/haystack/discussions) | [Website](https://deepset.ai)\n",
        "\n",
        "By the way: [we're hiring!](https://www.deepset.ai/jobs)\n"
      ],
      "metadata": {
        "collapsed": false,
        "pycharm": {
          "name": "#%% md\n"
        },
        "id": "LTw3oafkLLbO"
      }
    }
  ],
  "metadata": {
    "kernelspec": {
      "display_name": "Python 3",
      "language": "python",
      "name": "python3"
    },
    "language_info": {
      "codemirror_mode": {
        "name": "ipython",
        "version": 3
      },
      "file_extension": ".py",
      "mimetype": "text/x-python",
      "name": "python",
      "nbconvert_exporter": "python",
      "pygments_lexer": "ipython3",
      "version": "3.7.6"
    },
    "colab": {
      "name": "Basic Pipeline for pkk docs",
      "provenance": [],
      "collapsed_sections": [],
      "include_colab_link": true
    },
    "accelerator": "GPU"
  },
  "nbformat": 4,
  "nbformat_minor": 0
}